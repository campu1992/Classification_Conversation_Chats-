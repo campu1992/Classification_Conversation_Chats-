{
  "nbformat": 4,
  "nbformat_minor": 0,
  "metadata": {
    "colab": {
      "provenance": [],
      "mount_file_id": "1MMX3aAasjf8Yv70yjQ84Ja2EfDI5nZEO",
      "authorship_tag": "ABX9TyMJLHkDwNXQFdhi+DckqJ8t",
      "include_colab_link": true
    },
    "kernelspec": {
      "name": "python3",
      "display_name": "Python 3"
    },
    "language_info": {
      "name": "python"
    }
  },
  "cells": [
    {
      "cell_type": "markdown",
      "metadata": {
        "id": "view-in-github",
        "colab_type": "text"
      },
      "source": [
        "<a href=\"https://colab.research.google.com/github/campu1992/Classification_Conversation_Chats-/blob/main/carga_conversaciones.ipynb\" target=\"_parent\"><img src=\"https://colab.research.google.com/assets/colab-badge.svg\" alt=\"Open In Colab\"/></a>"
      ]
    },
    {
      "cell_type": "code",
      "source": [
        "import pandas as pd\n",
        "from joblib import load\n",
        "import os\n",
        "import torch\n",
        "import numpy as np\n",
        "import string\n",
        "from transformers import AutoTokenizer, AutoModelForSequenceClassification, pipeline\n",
        "from sklearn.preprocessing import LabelEncoder\n",
        "from nltk.tokenize import word_tokenize\n",
        "from nltk.corpus import stopwords\n",
        "from nltk.stem import WordNetLemmatizer\n",
        "import nltk\n",
        "nltk.download('punkt')\n",
        "nltk.download('stopwords')\n",
        "nltk.download('wordnet')\n",
        "\n",
        "model = load('/content/drive/MyDrive/Prediccion_clasificacion_chat/modelo_chats.pkl')\n",
        "tokenizer = AutoTokenizer.from_pretrained('/content/drive/MyDrive/Prediccion_clasificacion_chat/fine_tuned_model')\n",
        "model2 = AutoModelForSequenceClassification.from_pretrained('/content/drive/MyDrive/Prediccion_clasificacion_chat/fine_tuned_model')\n",
        "\n",
        "classifier = pipeline('text-classification', model=model2, tokenizer=tokenizer)\n",
        "\n",
        "def preprocess_text(text):\n",
        "    text = text.lower()\n",
        "    tokens = word_tokenize(text)\n",
        "    stop_words = set(stopwords.words('spanish'))\n",
        "    tokens = [word for word in tokens if word not in stop_words and word not in string.punctuation]\n",
        "    lemmatizer = WordNetLemmatizer()\n",
        "    tokens = [lemmatizer.lemmatize(word) for word in tokens]\n",
        "    clean_text = ' '.join(tokens)\n",
        "    return clean_text\n",
        "\n",
        "labels = [\"venta_de_producto_fisico\",\"venta_de_servicio\",\"venta_adicional\",\"venta_cruzada\",\"venta_de_suscripcion\",\"renovacion_de_contrato\",\"mejora_de_servicio\",\"reduccion_de_servicio\",\"soporte_tecnico\",\"soporte_de_facturacion\",\"procesamiento_de_reembolso\",\"resolucion_de_quejas\",\"solicitud_de_informacion\",\"programacion_de_citas\",\"recoleccion_de_feedback\",\"gestion_de_cuentas\",\"soporte_postventa\",\"conversion_de_clientes_potenciales\",\"recordatorio_de_renovacion\",\"retencion_de_clientes\"]\n",
        "\n",
        "def clasificar_conversacion(conversacion):\n",
        "    inputs = tokenizer(conversacion, return_tensors=\"pt\", padding=True, truncation=True)\n",
        "    outputs = model2(**inputs)\n",
        "    logits = outputs.logits\n",
        "    predicted_class = torch.argmax(logits, dim=1).item()\n",
        "    predicted_label = labels[predicted_class]\n",
        "    return predicted_label\n",
        "\n",
        "def predecir_negociacion(conversacion):\n",
        "    preprocessed_conversacion = preprocess_text(conversacion)\n",
        "    prediction = model.predict([preprocessed_conversacion])\n",
        "    return bool(prediction[0])\n",
        "\n",
        "def entrada_texto():\n",
        "    conversacion = input(\"Ingresa la conversación:\\n\")\n",
        "    resultado = predecir_negociacion(conversacion)\n",
        "    resultado2 = clasificar_conversacion(conversacion)\n",
        "    print(f\"¿La negociación fue cerrada exitosamente? : {resultado}\")\n",
        "    print(f\"Tipo de negociación: {resultado2}\")\n",
        "\n",
        "# Función para manejar la carga de un archivo CSV\n",
        "def carga_archivo():\n",
        "    file_path = input(\"Ingresa la ruta del archivo CSV:\\n\")\n",
        "    if os.path.exists(file_path):\n",
        "        df = pd.read_csv(file_path)\n",
        "        conversacion = df['Conversación'].iloc[0]\n",
        "        resultado = predecir_negociacion(conversacion)\n",
        "        resultado2 = clasificar_conversacion(conversacion)\n",
        "        print(f\"\\n{'-'*50}\")\n",
        "        print(f\"¿La negociación fue cerrada exitosamente? : {resultado}\")\n",
        "        print(f\"Tipo de negociación: {resultado2}\")\n",
        "        print(f\"{'-'*50}\\n\")\n",
        "    else:\n",
        "        print(\"El archivo no existe. Por favor verifica la ruta.\")\n",
        "\n",
        "# Función principal que maneja el menú y la lógica del flujo\n",
        "def main():\n",
        "    while True:\n",
        "        print(\"Selecciona una opción:\")\n",
        "        print(\"1. Ingresar conversación manualmente\")\n",
        "        print(\"2. Cargar archivo CSV\")\n",
        "        print(\"3. Salir\")\n",
        "        choice = input(\"Opción: \")\n",
        "\n",
        "        if choice == '1':\n",
        "            entrada_texto()\n",
        "        elif choice == '2':\n",
        "            carga_archivo()\n",
        "        elif choice == '3':\n",
        "            break\n",
        "        else:\n",
        "            print(\"Opción no válida. Por favor intenta nuevamente.\")\n",
        "\n",
        "        repeat = input(\"¿Deseas cargar otra conversación? (s/n): \")\n",
        "        if repeat.lower() != 's':\n",
        "            break\n",
        "\n",
        "if __name__ == \"__main__\":\n",
        "    main()"
      ],
      "metadata": {
        "colab": {
          "base_uri": "https://localhost:8080/"
        },
        "id": "cIIyVyhEWbKV",
        "outputId": "d6a9fc7b-f602-4491-9aea-8826fb13040f"
      },
      "execution_count": 10,
      "outputs": [
        {
          "output_type": "stream",
          "name": "stderr",
          "text": [
            "[nltk_data] Downloading package punkt to /root/nltk_data...\n",
            "[nltk_data]   Package punkt is already up-to-date!\n",
            "[nltk_data] Downloading package stopwords to /root/nltk_data...\n",
            "[nltk_data]   Package stopwords is already up-to-date!\n",
            "[nltk_data] Downloading package wordnet to /root/nltk_data...\n",
            "[nltk_data]   Package wordnet is already up-to-date!\n"
          ]
        },
        {
          "name": "stdout",
          "output_type": "stream",
          "text": [
            "Selecciona una opción:\n",
            "1. Ingresar conversación manualmente\n",
            "2. Cargar archivo CSV\n",
            "3. Salir\n",
            "Opción: 1\n",
            "Ingresa la conversación:\n",
            "Agente (Laura): ¡Hola! ¿En qué puedo ayudarte hoy?  Cliente (Carlos): Hola, estoy buscando un nuevo smartphone. Mi viejo ya está fallando y necesito uno con una buena cámara y batería duradera.  Agente (Laura): Entiendo, Carlos. Tenemos una amplia gama de smartphones. ¿Tienes alguna marca en mente o alguna característica específica que estés buscando además de una buena cámara y batería?  Cliente (Carlos): He escuchado cosas buenas sobre los modelos de Samsung. También quiero que tenga suficiente espacio de almacenamiento porque tomo muchas fotos y videos.  Agente (Laura): Perfecto, Samsung es una excelente elección. Te recomendaría el Samsung Galaxy S21. Tiene una cámara de 64MP, batería de 4000mAh y viene con 128GB de almacenamiento interno. ¿Qué te parece?  Cliente (Carlos): Suena bien. ¿Cuánto cuesta?  Agente (Laura): Actualmente, el Samsung Galaxy S21 está en oferta por $799. Además, ofrecemos financiación sin intereses si lo prefieres.  Cliente (Carlos): Eso suena genial. ¿Qué otros beneficios ofrece este modelo?  Agente (Laura): Además de la impresionante cámara y batería, el Galaxy S21 cuenta con un procesador muy rápido, pantalla de 6.2 pulgadas con resolución Full HD+ y es resistente al agua y al polvo. También incluye la posibilidad de expandir el almacenamiento con una tarjeta microSD.  Cliente (Carlos): Parece que es justo lo que estoy buscando. ¿Cómo funciona el proceso de financiación?  Agente (Laura): Es muy sencillo. Puedes elegir pagar en cuotas mensuales sin intereses durante 12 meses. Solo necesitas una tarjeta de crédito válida y completar una breve solicitud en línea.  Cliente (Carlos): Perfecto, me interesa la financiación. ¿Cómo podemos proceder?  Agente (Laura): ¡Excelente! Te enviaré un enlace para que completes la solicitud en línea. Una vez aprobada, te enviaremos el smartphone a tu domicilio sin costo adicional en un plazo de 3 a 5 días hábiles. ¿Te parece bien?  Cliente (Carlos): Sí, eso suena perfecto. Gracias por tu ayuda, Laura.  Agente (Laura): Es un placer, Carlos. Te enviaré el enlace de inmediato. ¿Puedes confirmar que recibiste el enlace y que todo está en orden?  Cliente (Carlos): Sí, acabo de recibirlo. Déjame completar la solicitud.  (Pausa mientras Carlos completa la solicitud)  Cliente (Carlos): Listo, ya envié la solicitud.  Agente (Laura): Perfecto, Carlos. Déjame verificar... Sí, tu solicitud ha sido aprobada. Hemos procesado tu pedido y el Samsung Galaxy S21 será enviado a tu dirección. Deberías recibirlo en 3 a 5 días hábiles.  Cliente (Carlos): ¡Genial! Muchas gracias, Laura. Estoy muy emocionado por recibir mi nuevo smartphone.  Agente (Laura): Me alegra escuchar eso, Carlos. Si necesitas algo más o tienes alguna pregunta, no dudes en contactarnos. ¡Que disfrutes tu nuevo teléfono!  Cliente (Carlos): Seguro, gracias de nuevo. ¡Hasta luego!  Agente (Laura): ¡Hasta luego, Carlos! Que tengas un excelente día.\n",
            "¿La negociación fue cerrada exitosamente? : True\n",
            "Tipo de negociación: venta_de_producto_fisico\n",
            "¿Deseas cargar otra conversación? (s/n): n\n"
          ]
        }
      ]
    }
  ]
}