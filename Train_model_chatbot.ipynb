{
  "nbformat": 4,
  "nbformat_minor": 0,
  "metadata": {
    "colab": {
      "provenance": [],
      "gpuType": "T4",
      "mount_file_id": "1X1xkQ71uBPnFd7uLnckToJzjVfBHJbQN",
      "authorship_tag": "ABX9TyPCEAPxLj2LbaXNsID9Cv3L",
      "include_colab_link": true
    },
    "kernelspec": {
      "name": "python3",
      "display_name": "Python 3"
    },
    "language_info": {
      "name": "python"
    },
    "accelerator": "GPU"
  },
  "cells": [
    {
      "cell_type": "markdown",
      "metadata": {
        "id": "view-in-github",
        "colab_type": "text"
      },
      "source": [
        "<a href=\"https://colab.research.google.com/github/campu1992/Classification_Conversation_Chats-/blob/main/Train_model_chatbot.ipynb\" target=\"_parent\"><img src=\"https://colab.research.google.com/assets/colab-badge.svg\" alt=\"Open In Colab\"/></a>"
      ]
    },
    {
      "cell_type": "markdown",
      "source": [
        "**INSTALACION DE DEPENDENCIAS**"
      ],
      "metadata": {
        "id": "0LuFtTxQBDkZ"
      }
    },
    {
      "cell_type": "code",
      "source": [
        "!pip install transformers[torch]\n",
        "!pip install accelerate -U"
      ],
      "metadata": {
        "colab": {
          "base_uri": "https://localhost:8080/"
        },
        "collapsed": true,
        "id": "PXVqxF2nAADQ",
        "outputId": "37aa5dc9-4542-41de-fc50-2bcbb617961e"
      },
      "execution_count": 1,
      "outputs": [
        {
          "output_type": "stream",
          "name": "stdout",
          "text": [
            "Requirement already satisfied: transformers[torch] in /usr/local/lib/python3.10/dist-packages (4.41.1)\n",
            "Requirement already satisfied: filelock in /usr/local/lib/python3.10/dist-packages (from transformers[torch]) (3.14.0)\n",
            "Requirement already satisfied: huggingface-hub<1.0,>=0.23.0 in /usr/local/lib/python3.10/dist-packages (from transformers[torch]) (0.23.1)\n",
            "Requirement already satisfied: numpy>=1.17 in /usr/local/lib/python3.10/dist-packages (from transformers[torch]) (1.25.2)\n",
            "Requirement already satisfied: packaging>=20.0 in /usr/local/lib/python3.10/dist-packages (from transformers[torch]) (24.0)\n",
            "Requirement already satisfied: pyyaml>=5.1 in /usr/local/lib/python3.10/dist-packages (from transformers[torch]) (6.0.1)\n",
            "Requirement already satisfied: regex!=2019.12.17 in /usr/local/lib/python3.10/dist-packages (from transformers[torch]) (2024.5.15)\n",
            "Requirement already satisfied: requests in /usr/local/lib/python3.10/dist-packages (from transformers[torch]) (2.31.0)\n",
            "Requirement already satisfied: tokenizers<0.20,>=0.19 in /usr/local/lib/python3.10/dist-packages (from transformers[torch]) (0.19.1)\n",
            "Requirement already satisfied: safetensors>=0.4.1 in /usr/local/lib/python3.10/dist-packages (from transformers[torch]) (0.4.3)\n",
            "Requirement already satisfied: tqdm>=4.27 in /usr/local/lib/python3.10/dist-packages (from transformers[torch]) (4.66.4)\n",
            "Requirement already satisfied: torch in /usr/local/lib/python3.10/dist-packages (from transformers[torch]) (2.3.0+cu121)\n",
            "Requirement already satisfied: accelerate>=0.21.0 in /usr/local/lib/python3.10/dist-packages (from transformers[torch]) (0.30.1)\n",
            "Requirement already satisfied: psutil in /usr/local/lib/python3.10/dist-packages (from accelerate>=0.21.0->transformers[torch]) (5.9.5)\n",
            "Requirement already satisfied: fsspec>=2023.5.0 in /usr/local/lib/python3.10/dist-packages (from huggingface-hub<1.0,>=0.23.0->transformers[torch]) (2023.6.0)\n",
            "Requirement already satisfied: typing-extensions>=3.7.4.3 in /usr/local/lib/python3.10/dist-packages (from huggingface-hub<1.0,>=0.23.0->transformers[torch]) (4.11.0)\n",
            "Requirement already satisfied: sympy in /usr/local/lib/python3.10/dist-packages (from torch->transformers[torch]) (1.12)\n",
            "Requirement already satisfied: networkx in /usr/local/lib/python3.10/dist-packages (from torch->transformers[torch]) (3.3)\n",
            "Requirement already satisfied: jinja2 in /usr/local/lib/python3.10/dist-packages (from torch->transformers[torch]) (3.1.4)\n",
            "Requirement already satisfied: nvidia-cuda-nvrtc-cu12==12.1.105 in /usr/local/lib/python3.10/dist-packages (from torch->transformers[torch]) (12.1.105)\n",
            "Requirement already satisfied: nvidia-cuda-runtime-cu12==12.1.105 in /usr/local/lib/python3.10/dist-packages (from torch->transformers[torch]) (12.1.105)\n",
            "Requirement already satisfied: nvidia-cuda-cupti-cu12==12.1.105 in /usr/local/lib/python3.10/dist-packages (from torch->transformers[torch]) (12.1.105)\n",
            "Requirement already satisfied: nvidia-cudnn-cu12==8.9.2.26 in /usr/local/lib/python3.10/dist-packages (from torch->transformers[torch]) (8.9.2.26)\n",
            "Requirement already satisfied: nvidia-cublas-cu12==12.1.3.1 in /usr/local/lib/python3.10/dist-packages (from torch->transformers[torch]) (12.1.3.1)\n",
            "Requirement already satisfied: nvidia-cufft-cu12==11.0.2.54 in /usr/local/lib/python3.10/dist-packages (from torch->transformers[torch]) (11.0.2.54)\n",
            "Requirement already satisfied: nvidia-curand-cu12==10.3.2.106 in /usr/local/lib/python3.10/dist-packages (from torch->transformers[torch]) (10.3.2.106)\n",
            "Requirement already satisfied: nvidia-cusolver-cu12==11.4.5.107 in /usr/local/lib/python3.10/dist-packages (from torch->transformers[torch]) (11.4.5.107)\n",
            "Requirement already satisfied: nvidia-cusparse-cu12==12.1.0.106 in /usr/local/lib/python3.10/dist-packages (from torch->transformers[torch]) (12.1.0.106)\n",
            "Requirement already satisfied: nvidia-nccl-cu12==2.20.5 in /usr/local/lib/python3.10/dist-packages (from torch->transformers[torch]) (2.20.5)\n",
            "Requirement already satisfied: nvidia-nvtx-cu12==12.1.105 in /usr/local/lib/python3.10/dist-packages (from torch->transformers[torch]) (12.1.105)\n",
            "Requirement already satisfied: triton==2.3.0 in /usr/local/lib/python3.10/dist-packages (from torch->transformers[torch]) (2.3.0)\n",
            "Requirement already satisfied: nvidia-nvjitlink-cu12 in /usr/local/lib/python3.10/dist-packages (from nvidia-cusolver-cu12==11.4.5.107->torch->transformers[torch]) (12.5.40)\n",
            "Requirement already satisfied: charset-normalizer<4,>=2 in /usr/local/lib/python3.10/dist-packages (from requests->transformers[torch]) (3.3.2)\n",
            "Requirement already satisfied: idna<4,>=2.5 in /usr/local/lib/python3.10/dist-packages (from requests->transformers[torch]) (3.7)\n",
            "Requirement already satisfied: urllib3<3,>=1.21.1 in /usr/local/lib/python3.10/dist-packages (from requests->transformers[torch]) (2.0.7)\n",
            "Requirement already satisfied: certifi>=2017.4.17 in /usr/local/lib/python3.10/dist-packages (from requests->transformers[torch]) (2024.2.2)\n",
            "Requirement already satisfied: MarkupSafe>=2.0 in /usr/local/lib/python3.10/dist-packages (from jinja2->torch->transformers[torch]) (2.1.5)\n",
            "Requirement already satisfied: mpmath>=0.19 in /usr/local/lib/python3.10/dist-packages (from sympy->torch->transformers[torch]) (1.3.0)\n",
            "Requirement already satisfied: accelerate in /usr/local/lib/python3.10/dist-packages (0.30.1)\n",
            "Requirement already satisfied: numpy>=1.17 in /usr/local/lib/python3.10/dist-packages (from accelerate) (1.25.2)\n",
            "Requirement already satisfied: packaging>=20.0 in /usr/local/lib/python3.10/dist-packages (from accelerate) (24.0)\n",
            "Requirement already satisfied: psutil in /usr/local/lib/python3.10/dist-packages (from accelerate) (5.9.5)\n",
            "Requirement already satisfied: pyyaml in /usr/local/lib/python3.10/dist-packages (from accelerate) (6.0.1)\n",
            "Requirement already satisfied: torch>=1.10.0 in /usr/local/lib/python3.10/dist-packages (from accelerate) (2.3.0+cu121)\n",
            "Requirement already satisfied: huggingface-hub in /usr/local/lib/python3.10/dist-packages (from accelerate) (0.23.1)\n",
            "Requirement already satisfied: safetensors>=0.3.1 in /usr/local/lib/python3.10/dist-packages (from accelerate) (0.4.3)\n",
            "Requirement already satisfied: filelock in /usr/local/lib/python3.10/dist-packages (from torch>=1.10.0->accelerate) (3.14.0)\n",
            "Requirement already satisfied: typing-extensions>=4.8.0 in /usr/local/lib/python3.10/dist-packages (from torch>=1.10.0->accelerate) (4.11.0)\n",
            "Requirement already satisfied: sympy in /usr/local/lib/python3.10/dist-packages (from torch>=1.10.0->accelerate) (1.12)\n",
            "Requirement already satisfied: networkx in /usr/local/lib/python3.10/dist-packages (from torch>=1.10.0->accelerate) (3.3)\n",
            "Requirement already satisfied: jinja2 in /usr/local/lib/python3.10/dist-packages (from torch>=1.10.0->accelerate) (3.1.4)\n",
            "Requirement already satisfied: fsspec in /usr/local/lib/python3.10/dist-packages (from torch>=1.10.0->accelerate) (2023.6.0)\n",
            "Requirement already satisfied: nvidia-cuda-nvrtc-cu12==12.1.105 in /usr/local/lib/python3.10/dist-packages (from torch>=1.10.0->accelerate) (12.1.105)\n",
            "Requirement already satisfied: nvidia-cuda-runtime-cu12==12.1.105 in /usr/local/lib/python3.10/dist-packages (from torch>=1.10.0->accelerate) (12.1.105)\n",
            "Requirement already satisfied: nvidia-cuda-cupti-cu12==12.1.105 in /usr/local/lib/python3.10/dist-packages (from torch>=1.10.0->accelerate) (12.1.105)\n",
            "Requirement already satisfied: nvidia-cudnn-cu12==8.9.2.26 in /usr/local/lib/python3.10/dist-packages (from torch>=1.10.0->accelerate) (8.9.2.26)\n",
            "Requirement already satisfied: nvidia-cublas-cu12==12.1.3.1 in /usr/local/lib/python3.10/dist-packages (from torch>=1.10.0->accelerate) (12.1.3.1)\n",
            "Requirement already satisfied: nvidia-cufft-cu12==11.0.2.54 in /usr/local/lib/python3.10/dist-packages (from torch>=1.10.0->accelerate) (11.0.2.54)\n",
            "Requirement already satisfied: nvidia-curand-cu12==10.3.2.106 in /usr/local/lib/python3.10/dist-packages (from torch>=1.10.0->accelerate) (10.3.2.106)\n",
            "Requirement already satisfied: nvidia-cusolver-cu12==11.4.5.107 in /usr/local/lib/python3.10/dist-packages (from torch>=1.10.0->accelerate) (11.4.5.107)\n",
            "Requirement already satisfied: nvidia-cusparse-cu12==12.1.0.106 in /usr/local/lib/python3.10/dist-packages (from torch>=1.10.0->accelerate) (12.1.0.106)\n",
            "Requirement already satisfied: nvidia-nccl-cu12==2.20.5 in /usr/local/lib/python3.10/dist-packages (from torch>=1.10.0->accelerate) (2.20.5)\n",
            "Requirement already satisfied: nvidia-nvtx-cu12==12.1.105 in /usr/local/lib/python3.10/dist-packages (from torch>=1.10.0->accelerate) (12.1.105)\n",
            "Requirement already satisfied: triton==2.3.0 in /usr/local/lib/python3.10/dist-packages (from torch>=1.10.0->accelerate) (2.3.0)\n",
            "Requirement already satisfied: nvidia-nvjitlink-cu12 in /usr/local/lib/python3.10/dist-packages (from nvidia-cusolver-cu12==11.4.5.107->torch>=1.10.0->accelerate) (12.5.40)\n",
            "Requirement already satisfied: requests in /usr/local/lib/python3.10/dist-packages (from huggingface-hub->accelerate) (2.31.0)\n",
            "Requirement already satisfied: tqdm>=4.42.1 in /usr/local/lib/python3.10/dist-packages (from huggingface-hub->accelerate) (4.66.4)\n",
            "Requirement already satisfied: MarkupSafe>=2.0 in /usr/local/lib/python3.10/dist-packages (from jinja2->torch>=1.10.0->accelerate) (2.1.5)\n",
            "Requirement already satisfied: charset-normalizer<4,>=2 in /usr/local/lib/python3.10/dist-packages (from requests->huggingface-hub->accelerate) (3.3.2)\n",
            "Requirement already satisfied: idna<4,>=2.5 in /usr/local/lib/python3.10/dist-packages (from requests->huggingface-hub->accelerate) (3.7)\n",
            "Requirement already satisfied: urllib3<3,>=1.21.1 in /usr/local/lib/python3.10/dist-packages (from requests->huggingface-hub->accelerate) (2.0.7)\n",
            "Requirement already satisfied: certifi>=2017.4.17 in /usr/local/lib/python3.10/dist-packages (from requests->huggingface-hub->accelerate) (2024.2.2)\n",
            "Requirement already satisfied: mpmath>=0.19 in /usr/local/lib/python3.10/dist-packages (from sympy->torch>=1.10.0->accelerate) (1.3.0)\n"
          ]
        }
      ]
    },
    {
      "cell_type": "markdown",
      "source": [
        "**IMPORTACION DE LIBRERIAS**"
      ],
      "metadata": {
        "id": "kr8I6erVBHBh"
      }
    },
    {
      "cell_type": "code",
      "source": [
        "import pandas as pd\n",
        "import matplotlib.pyplot as plt\n",
        "import seaborn as sns\n",
        "import numpy as np\n",
        "import nltk\n",
        "from nltk.tokenize import word_tokenize\n",
        "from nltk.corpus import stopwords\n",
        "from nltk.stem import WordNetLemmatizer\n",
        "from sklearn.model_selection import train_test_split, cross_val_score\n",
        "from sklearn.preprocessing import LabelEncoder\n",
        "from sklearn.feature_extraction.text import TfidfVectorizer\n",
        "from sklearn.metrics import accuracy_score, classification_report, confusion_matrix, precision_score, recall_score, f1_score\n",
        "from sklearn.utils import resample\n",
        "from sklearn.pipeline import Pipeline\n",
        "from sklearn.svm import SVC\n",
        "import re\n",
        "import string\n",
        "import tensorflow as tf\n",
        "from tensorflow.keras.models import Sequential\n",
        "from tensorflow.keras.layers import Dense, Embedding, LSTM, Bidirectional, Dropout\n",
        "from tensorflow.keras.preprocessing.sequence import pad_sequences\n",
        "from transformers import Trainer, TrainingArguments, AutoTokenizer, AutoModelForSequenceClassification, pipeline\n",
        "import torch\n",
        "import joblib"
      ],
      "metadata": {
        "id": "R4728M1exmEH"
      },
      "execution_count": 2,
      "outputs": []
    },
    {
      "cell_type": "code",
      "source": [
        "nltk.download('punkt')\n",
        "nltk.download('stopwords')\n",
        "nltk.download('wordnet')"
      ],
      "metadata": {
        "colab": {
          "base_uri": "https://localhost:8080/"
        },
        "collapsed": true,
        "id": "au95rQBpHzf2",
        "outputId": "77c5527c-4f5e-4501-f1ef-97b6a6456d63"
      },
      "execution_count": 3,
      "outputs": [
        {
          "output_type": "stream",
          "name": "stderr",
          "text": [
            "[nltk_data] Downloading package punkt to /root/nltk_data...\n",
            "[nltk_data]   Package punkt is already up-to-date!\n",
            "[nltk_data] Downloading package stopwords to /root/nltk_data...\n",
            "[nltk_data]   Package stopwords is already up-to-date!\n",
            "[nltk_data] Downloading package wordnet to /root/nltk_data...\n",
            "[nltk_data]   Package wordnet is already up-to-date!\n"
          ]
        },
        {
          "output_type": "execute_result",
          "data": {
            "text/plain": [
              "True"
            ]
          },
          "metadata": {},
          "execution_count": 3
        }
      ]
    },
    {
      "cell_type": "markdown",
      "source": [
        "**CARGA DEL DATASET**"
      ],
      "metadata": {
        "id": "di4KfBY0BAjQ"
      }
    },
    {
      "cell_type": "code",
      "source": [
        "df = pd.read_csv('/content/drive/MyDrive/Prediccion_clasificacion_chat/dataset_openai.md')"
      ],
      "metadata": {
        "id": "LyNrn7vixptk"
      },
      "execution_count": 4,
      "outputs": []
    },
    {
      "cell_type": "code",
      "source": [
        "df.head()"
      ],
      "metadata": {
        "colab": {
          "base_uri": "https://localhost:8080/",
          "height": 206
        },
        "id": "L7_-_ul40HP1",
        "outputId": "3e6fd448-87d5-46e6-9643-02ff7f570b97"
      },
      "execution_count": 5,
      "outputs": [
        {
          "output_type": "execute_result",
          "data": {
            "text/plain": [
              "                               Producto  \\\n",
              "0                             Laptop HP   \n",
              "1                      Smart TV Samsung   \n",
              "2              Teléfono móvil iPhone 13   \n",
              "3          Tablet Samsung Galaxy Tab S7   \n",
              "4  Consola de videojuegos PlayStation 5   \n",
              "\n",
              "                                        Conversación     Venta  \n",
              "0  Cliente: Hola, estoy buscando una laptop HP. \\...     Venta  \n",
              "1  Cliente: Hola, estoy buscando una Smart TV Sam...  No venta  \n",
              "2  Cliente: Hola, estoy interesado en el iPhone 1...  No venta  \n",
              "3  Cliente: Hola, estoy buscando una tablet Samsu...  No venta  \n",
              "4  Cliente: Hola, ¿tienen la PlayStation 5 dispon...  No venta  "
            ],
            "text/html": [
              "\n",
              "  <div id=\"df-de48fa97-aab0-4e1e-9865-7451f7ee98ee\" class=\"colab-df-container\">\n",
              "    <div>\n",
              "<style scoped>\n",
              "    .dataframe tbody tr th:only-of-type {\n",
              "        vertical-align: middle;\n",
              "    }\n",
              "\n",
              "    .dataframe tbody tr th {\n",
              "        vertical-align: top;\n",
              "    }\n",
              "\n",
              "    .dataframe thead th {\n",
              "        text-align: right;\n",
              "    }\n",
              "</style>\n",
              "<table border=\"1\" class=\"dataframe\">\n",
              "  <thead>\n",
              "    <tr style=\"text-align: right;\">\n",
              "      <th></th>\n",
              "      <th>Producto</th>\n",
              "      <th>Conversación</th>\n",
              "      <th>Venta</th>\n",
              "    </tr>\n",
              "  </thead>\n",
              "  <tbody>\n",
              "    <tr>\n",
              "      <th>0</th>\n",
              "      <td>Laptop HP</td>\n",
              "      <td>Cliente: Hola, estoy buscando una laptop HP. \\...</td>\n",
              "      <td>Venta</td>\n",
              "    </tr>\n",
              "    <tr>\n",
              "      <th>1</th>\n",
              "      <td>Smart TV Samsung</td>\n",
              "      <td>Cliente: Hola, estoy buscando una Smart TV Sam...</td>\n",
              "      <td>No venta</td>\n",
              "    </tr>\n",
              "    <tr>\n",
              "      <th>2</th>\n",
              "      <td>Teléfono móvil iPhone 13</td>\n",
              "      <td>Cliente: Hola, estoy interesado en el iPhone 1...</td>\n",
              "      <td>No venta</td>\n",
              "    </tr>\n",
              "    <tr>\n",
              "      <th>3</th>\n",
              "      <td>Tablet Samsung Galaxy Tab S7</td>\n",
              "      <td>Cliente: Hola, estoy buscando una tablet Samsu...</td>\n",
              "      <td>No venta</td>\n",
              "    </tr>\n",
              "    <tr>\n",
              "      <th>4</th>\n",
              "      <td>Consola de videojuegos PlayStation 5</td>\n",
              "      <td>Cliente: Hola, ¿tienen la PlayStation 5 dispon...</td>\n",
              "      <td>No venta</td>\n",
              "    </tr>\n",
              "  </tbody>\n",
              "</table>\n",
              "</div>\n",
              "    <div class=\"colab-df-buttons\">\n",
              "\n",
              "  <div class=\"colab-df-container\">\n",
              "    <button class=\"colab-df-convert\" onclick=\"convertToInteractive('df-de48fa97-aab0-4e1e-9865-7451f7ee98ee')\"\n",
              "            title=\"Convert this dataframe to an interactive table.\"\n",
              "            style=\"display:none;\">\n",
              "\n",
              "  <svg xmlns=\"http://www.w3.org/2000/svg\" height=\"24px\" viewBox=\"0 -960 960 960\">\n",
              "    <path d=\"M120-120v-720h720v720H120Zm60-500h600v-160H180v160Zm220 220h160v-160H400v160Zm0 220h160v-160H400v160ZM180-400h160v-160H180v160Zm440 0h160v-160H620v160ZM180-180h160v-160H180v160Zm440 0h160v-160H620v160Z\"/>\n",
              "  </svg>\n",
              "    </button>\n",
              "\n",
              "  <style>\n",
              "    .colab-df-container {\n",
              "      display:flex;\n",
              "      gap: 12px;\n",
              "    }\n",
              "\n",
              "    .colab-df-convert {\n",
              "      background-color: #E8F0FE;\n",
              "      border: none;\n",
              "      border-radius: 50%;\n",
              "      cursor: pointer;\n",
              "      display: none;\n",
              "      fill: #1967D2;\n",
              "      height: 32px;\n",
              "      padding: 0 0 0 0;\n",
              "      width: 32px;\n",
              "    }\n",
              "\n",
              "    .colab-df-convert:hover {\n",
              "      background-color: #E2EBFA;\n",
              "      box-shadow: 0px 1px 2px rgba(60, 64, 67, 0.3), 0px 1px 3px 1px rgba(60, 64, 67, 0.15);\n",
              "      fill: #174EA6;\n",
              "    }\n",
              "\n",
              "    .colab-df-buttons div {\n",
              "      margin-bottom: 4px;\n",
              "    }\n",
              "\n",
              "    [theme=dark] .colab-df-convert {\n",
              "      background-color: #3B4455;\n",
              "      fill: #D2E3FC;\n",
              "    }\n",
              "\n",
              "    [theme=dark] .colab-df-convert:hover {\n",
              "      background-color: #434B5C;\n",
              "      box-shadow: 0px 1px 3px 1px rgba(0, 0, 0, 0.15);\n",
              "      filter: drop-shadow(0px 1px 2px rgba(0, 0, 0, 0.3));\n",
              "      fill: #FFFFFF;\n",
              "    }\n",
              "  </style>\n",
              "\n",
              "    <script>\n",
              "      const buttonEl =\n",
              "        document.querySelector('#df-de48fa97-aab0-4e1e-9865-7451f7ee98ee button.colab-df-convert');\n",
              "      buttonEl.style.display =\n",
              "        google.colab.kernel.accessAllowed ? 'block' : 'none';\n",
              "\n",
              "      async function convertToInteractive(key) {\n",
              "        const element = document.querySelector('#df-de48fa97-aab0-4e1e-9865-7451f7ee98ee');\n",
              "        const dataTable =\n",
              "          await google.colab.kernel.invokeFunction('convertToInteractive',\n",
              "                                                    [key], {});\n",
              "        if (!dataTable) return;\n",
              "\n",
              "        const docLinkHtml = 'Like what you see? Visit the ' +\n",
              "          '<a target=\"_blank\" href=https://colab.research.google.com/notebooks/data_table.ipynb>data table notebook</a>'\n",
              "          + ' to learn more about interactive tables.';\n",
              "        element.innerHTML = '';\n",
              "        dataTable['output_type'] = 'display_data';\n",
              "        await google.colab.output.renderOutput(dataTable, element);\n",
              "        const docLink = document.createElement('div');\n",
              "        docLink.innerHTML = docLinkHtml;\n",
              "        element.appendChild(docLink);\n",
              "      }\n",
              "    </script>\n",
              "  </div>\n",
              "\n",
              "\n",
              "<div id=\"df-638703b2-c344-4bfa-86a7-9e8848fcdf7b\">\n",
              "  <button class=\"colab-df-quickchart\" onclick=\"quickchart('df-638703b2-c344-4bfa-86a7-9e8848fcdf7b')\"\n",
              "            title=\"Suggest charts\"\n",
              "            style=\"display:none;\">\n",
              "\n",
              "<svg xmlns=\"http://www.w3.org/2000/svg\" height=\"24px\"viewBox=\"0 0 24 24\"\n",
              "     width=\"24px\">\n",
              "    <g>\n",
              "        <path d=\"M19 3H5c-1.1 0-2 .9-2 2v14c0 1.1.9 2 2 2h14c1.1 0 2-.9 2-2V5c0-1.1-.9-2-2-2zM9 17H7v-7h2v7zm4 0h-2V7h2v10zm4 0h-2v-4h2v4z\"/>\n",
              "    </g>\n",
              "</svg>\n",
              "  </button>\n",
              "\n",
              "<style>\n",
              "  .colab-df-quickchart {\n",
              "      --bg-color: #E8F0FE;\n",
              "      --fill-color: #1967D2;\n",
              "      --hover-bg-color: #E2EBFA;\n",
              "      --hover-fill-color: #174EA6;\n",
              "      --disabled-fill-color: #AAA;\n",
              "      --disabled-bg-color: #DDD;\n",
              "  }\n",
              "\n",
              "  [theme=dark] .colab-df-quickchart {\n",
              "      --bg-color: #3B4455;\n",
              "      --fill-color: #D2E3FC;\n",
              "      --hover-bg-color: #434B5C;\n",
              "      --hover-fill-color: #FFFFFF;\n",
              "      --disabled-bg-color: #3B4455;\n",
              "      --disabled-fill-color: #666;\n",
              "  }\n",
              "\n",
              "  .colab-df-quickchart {\n",
              "    background-color: var(--bg-color);\n",
              "    border: none;\n",
              "    border-radius: 50%;\n",
              "    cursor: pointer;\n",
              "    display: none;\n",
              "    fill: var(--fill-color);\n",
              "    height: 32px;\n",
              "    padding: 0;\n",
              "    width: 32px;\n",
              "  }\n",
              "\n",
              "  .colab-df-quickchart:hover {\n",
              "    background-color: var(--hover-bg-color);\n",
              "    box-shadow: 0 1px 2px rgba(60, 64, 67, 0.3), 0 1px 3px 1px rgba(60, 64, 67, 0.15);\n",
              "    fill: var(--button-hover-fill-color);\n",
              "  }\n",
              "\n",
              "  .colab-df-quickchart-complete:disabled,\n",
              "  .colab-df-quickchart-complete:disabled:hover {\n",
              "    background-color: var(--disabled-bg-color);\n",
              "    fill: var(--disabled-fill-color);\n",
              "    box-shadow: none;\n",
              "  }\n",
              "\n",
              "  .colab-df-spinner {\n",
              "    border: 2px solid var(--fill-color);\n",
              "    border-color: transparent;\n",
              "    border-bottom-color: var(--fill-color);\n",
              "    animation:\n",
              "      spin 1s steps(1) infinite;\n",
              "  }\n",
              "\n",
              "  @keyframes spin {\n",
              "    0% {\n",
              "      border-color: transparent;\n",
              "      border-bottom-color: var(--fill-color);\n",
              "      border-left-color: var(--fill-color);\n",
              "    }\n",
              "    20% {\n",
              "      border-color: transparent;\n",
              "      border-left-color: var(--fill-color);\n",
              "      border-top-color: var(--fill-color);\n",
              "    }\n",
              "    30% {\n",
              "      border-color: transparent;\n",
              "      border-left-color: var(--fill-color);\n",
              "      border-top-color: var(--fill-color);\n",
              "      border-right-color: var(--fill-color);\n",
              "    }\n",
              "    40% {\n",
              "      border-color: transparent;\n",
              "      border-right-color: var(--fill-color);\n",
              "      border-top-color: var(--fill-color);\n",
              "    }\n",
              "    60% {\n",
              "      border-color: transparent;\n",
              "      border-right-color: var(--fill-color);\n",
              "    }\n",
              "    80% {\n",
              "      border-color: transparent;\n",
              "      border-right-color: var(--fill-color);\n",
              "      border-bottom-color: var(--fill-color);\n",
              "    }\n",
              "    90% {\n",
              "      border-color: transparent;\n",
              "      border-bottom-color: var(--fill-color);\n",
              "    }\n",
              "  }\n",
              "</style>\n",
              "\n",
              "  <script>\n",
              "    async function quickchart(key) {\n",
              "      const quickchartButtonEl =\n",
              "        document.querySelector('#' + key + ' button');\n",
              "      quickchartButtonEl.disabled = true;  // To prevent multiple clicks.\n",
              "      quickchartButtonEl.classList.add('colab-df-spinner');\n",
              "      try {\n",
              "        const charts = await google.colab.kernel.invokeFunction(\n",
              "            'suggestCharts', [key], {});\n",
              "      } catch (error) {\n",
              "        console.error('Error during call to suggestCharts:', error);\n",
              "      }\n",
              "      quickchartButtonEl.classList.remove('colab-df-spinner');\n",
              "      quickchartButtonEl.classList.add('colab-df-quickchart-complete');\n",
              "    }\n",
              "    (() => {\n",
              "      let quickchartButtonEl =\n",
              "        document.querySelector('#df-638703b2-c344-4bfa-86a7-9e8848fcdf7b button');\n",
              "      quickchartButtonEl.style.display =\n",
              "        google.colab.kernel.accessAllowed ? 'block' : 'none';\n",
              "    })();\n",
              "  </script>\n",
              "</div>\n",
              "\n",
              "    </div>\n",
              "  </div>\n"
            ],
            "application/vnd.google.colaboratory.intrinsic+json": {
              "type": "dataframe",
              "variable_name": "df",
              "summary": "{\n  \"name\": \"df\",\n  \"rows\": 39,\n  \"fields\": [\n    {\n      \"column\": \"Producto\",\n      \"properties\": {\n        \"dtype\": \"string\",\n        \"num_unique_values\": 30,\n        \"samples\": [\n          \"Proyector Epson Home Cinema 5050UB\",\n          \"Reloj inteligente Apple Watch Series 7\",\n          \"Monitor de juegos ASUS ROG Swift PG279Q\"\n        ],\n        \"semantic_type\": \"\",\n        \"description\": \"\"\n      }\n    },\n    {\n      \"column\": \"Conversaci\\u00f3n\",\n      \"properties\": {\n        \"dtype\": \"string\",\n        \"num_unique_values\": 38,\n        \"samples\": [\n          \"Cliente: Hola, estoy interesado en comprar la PlayStation 5.\\r\\nVendedor: \\u00a1Hola! La PS5 es una excelente opci\\u00f3n para los amantes de los videojuegos. \\u00bfQu\\u00e9 tipo de juegos te gustar\\u00eda jugar?\\r\\nCliente: Me gustan los juegos de aventura y los de mundo abierto.\\r\\nVendedor: La PS5 tiene una amplia variedad de juegos en esos g\\u00e9neros. \\u00bfTe gustar\\u00eda ver algunos de los t\\u00edtulos disponibles?\\r\\nCliente: S\\u00ed, por favor.\\r\\nCliente: Me encantan los juegos disponibles. \\u00bfCu\\u00e1l es el precio de la consola?\\r\\nVendedor: El precio de la PlayStation 5 es de $500.\\r\\nCliente: Es un poco m\\u00e1s de lo que esperaba. \\u00bfTienen alg\\u00fan descuento disponible?\\r\\nVendedor: Lamentablemente, no tenemos descuentos disponibles en este momento.\\r\\nCliente: Lo pensar\\u00e9 un poco m\\u00e1s y luego tomar\\u00e9 una decisi\\u00f3n.\\r\\nVendedor: Por supuesto, t\\u00f3mate tu tiempo. Si tienes m\\u00e1s preguntas, aqu\\u00ed estoy para ayudarte.\",\n          \"Cliente: Hola, estoy buscando un lector electr\\u00f3nico para mis libros digitales.\\r\\nVendedor: \\u00a1Hola! El Kindle Oasis es una excelente opci\\u00f3n para la lectura digital. \\u00bfQu\\u00e9 caracter\\u00edsticas son importantes para ti?\\r\\nCliente: Me gustar\\u00eda que fuera resistente al agua y con una pantalla de alta resoluci\\u00f3n.\\r\\nVendedor: Este modelo del Kindle Oasis cumple con ambos requisitos. \\u00bfTe gustar\\u00eda ver c\\u00f3mo funciona?\\r\\nCliente: S\\u00ed, por favor.\\r\\nCliente: Me encanta. \\u00bfCu\\u00e1l es el precio del Kindle Oasis?\\r\\nVendedor: El precio del Kindle Oasis es de $300.\\r\\nCliente: Es un poco m\\u00e1s de lo que quer\\u00eda gastar. \\u00bfTienen alg\\u00fan descuento disponible?\\r\\nVendedor: Lamentablemente, no tenemos descuentos disponibles en este producto en este momento.\\r\\nCliente: Lo pensar\\u00e9 un poco m\\u00e1s y luego tomar\\u00e9 una decisi\\u00f3n.\\r\\nVendedor: Por supuesto, t\\u00f3mate tu tiempo. Si tienes m\\u00e1s preguntas, aqu\\u00ed estoy para ayudarte.\",\n          \"Cliente: Hola, \\u00bftienen la PlayStation 5 disponible? \\r\\nVendedor: \\u00a1Hola! Actualmente estamos agotados, pero estamos recibiendo un nuevo lote la pr\\u00f3xima semana. \\u00bfTe gustar\\u00eda reservar una? \\r\\nCliente: S\\u00ed, definitivamente quiero reservar una. \\u00bfCu\\u00e1nto cuesta? \\r\\nVendedor: El precio es de $500, y requerimos un dep\\u00f3sito del 20% para reservarla. \\r\\nCliente: Perfecto, aqu\\u00ed tienes mi tarjeta para el dep\\u00f3sito. \\r\\nVendedor: Gracias. Te enviaremos un correo electr\\u00f3nico con los detalles de la reserva y te contactaremos cuando est\\u00e9 disponible para el pago final y la recogida. \\r\\nCliente: Gracias por tu ayuda. Esperar\\u00e9 con ansias la llamada. \\r\\nVendedor: Por supuesto, no hay problema. Si tienes alguna pregunta, no dudes en contactarnos. \\u00a1Que tengas un buen d\\u00eda! \\r\\nCliente: \\u00bfHay alguna promoci\\u00f3n si reservo dos unidades? \\r\\nVendedor: Lo siento, actualmente no tenemos promociones para reservas m\\u00faltiples. \\r\\nCliente: Entiendo, gracias de todos modos. \\r\\nVendedor: No hay problema, si tienes m\\u00e1s preguntas, no dudes en hacerlas. \\u00a1Que tengas un buen d\\u00eda! \\r\\nCliente: \\u00bfHay alg\\u00fan accesorio adicional que recomiendes para la PlayStation 5? \\r\\nVendedor: Un segundo controlador DualSense y una suscripci\\u00f3n a PlayStation Plus son opciones populares para mejorar tu experiencia de juego. \\r\\nCliente: Gracias por la recomendaci\\u00f3n. \\r\\nVendedor: Estoy aqu\\u00ed para ayudarte en lo que necesites. \\u00a1Que tengas un buen d\\u00eda! \\r\\nCliente: \\u00bfPuedo pagar el resto en efectivo cuando recoja la consola? \\r\\nVendedor: S\\u00ed, aceptamos pagos en efectivo al momento de la recogida. \\r\\nCliente: Perfecto, gracias por la informaci\\u00f3n. \\r\\nVendedor: No hay de qu\\u00e9, siempre estoy aqu\\u00ed para responder a tus preguntas. \\u00a1Que tengas un buen d\\u00eda! \\r\\n[Resultado: No venta]\"\n        ],\n        \"semantic_type\": \"\",\n        \"description\": \"\"\n      }\n    },\n    {\n      \"column\": \"Venta\",\n      \"properties\": {\n        \"dtype\": \"category\",\n        \"num_unique_values\": 2,\n        \"samples\": [\n          \"No venta\",\n          \"Venta\"\n        ],\n        \"semantic_type\": \"\",\n        \"description\": \"\"\n      }\n    }\n  ]\n}"
            }
          },
          "metadata": {},
          "execution_count": 5
        }
      ]
    },
    {
      "cell_type": "markdown",
      "source": [
        "**LIMPIEZA DE DATOS**"
      ],
      "metadata": {
        "id": "KF0TEqVxDKUy"
      }
    },
    {
      "cell_type": "code",
      "source": [
        "df = df.drop_duplicates(subset='Producto')"
      ],
      "metadata": {
        "id": "2f_wTsGy0Nbl"
      },
      "execution_count": 6,
      "outputs": []
    },
    {
      "cell_type": "code",
      "source": [
        "df = df[df['Producto'] != 'Producto']"
      ],
      "metadata": {
        "id": "hJrOEZAh0Tno"
      },
      "execution_count": 7,
      "outputs": []
    },
    {
      "cell_type": "code",
      "source": [
        "df[\"Venta\"].replace([\"No venta\", \"Venta\"], [False,True], inplace=True)"
      ],
      "metadata": {
        "id": "esCjY7M90Wdh"
      },
      "execution_count": 8,
      "outputs": []
    },
    {
      "cell_type": "code",
      "source": [
        "def limpiar_texto(texto):\n",
        "    texto_limpio = re.sub(r\"[^a-zA-Z0-9]\", \" \", texto)\n",
        "    return texto_limpio.lower().strip()"
      ],
      "metadata": {
        "id": "jUhZNVRYCjHv"
      },
      "execution_count": 9,
      "outputs": []
    },
    {
      "cell_type": "code",
      "source": [
        "df['Conversacion'] = df['Conversación'].apply(limpiar_texto)"
      ],
      "metadata": {
        "id": "wDXU0l9JCnRQ"
      },
      "execution_count": 10,
      "outputs": []
    },
    {
      "cell_type": "code",
      "source": [
        "df[\"Categoria\"] = \"venta_de_producto_fisico\" # Agregamos una columna con categoria de negocio"
      ],
      "metadata": {
        "id": "RbFmd8znHiM4"
      },
      "execution_count": 11,
      "outputs": []
    },
    {
      "cell_type": "markdown",
      "source": [
        "**EDA**"
      ],
      "metadata": {
        "id": "hN67Z_dnCzE4"
      }
    },
    {
      "cell_type": "code",
      "source": [
        "# Conteo de la distribución de negociaciones cerradas y no cerradas\n",
        "print(df['Venta'].value_counts())"
      ],
      "metadata": {
        "colab": {
          "base_uri": "https://localhost:8080/"
        },
        "collapsed": true,
        "id": "0tvOLmTE0aQJ",
        "outputId": "5cd31e46-8abe-4ac2-f7c9-db29887369a7"
      },
      "execution_count": 12,
      "outputs": [
        {
          "output_type": "stream",
          "name": "stdout",
          "text": [
            "Venta\n",
            "True     19\n",
            "False    10\n",
            "Name: count, dtype: int64\n"
          ]
        }
      ]
    },
    {
      "cell_type": "code",
      "source": [
        "# Gráfico de barras para la distribución de negociaciones cerradas y no cerradas\n",
        "plt.figure(figsize=(6, 4))\n",
        "sns.countplot(data=df, x='Venta')\n",
        "plt.title('Distribución de Negociaciones')\n",
        "plt.xlabel('Estado de la Negociación')\n",
        "plt.ylabel('Cantidad')\n",
        "plt.show()"
      ],
      "metadata": {
        "colab": {
          "base_uri": "https://localhost:8080/",
          "height": 411
        },
        "id": "VyroPiMn0n87",
        "outputId": "b98b816a-6dea-4800-c1fd-dc1b6e3e3f6b"
      },
      "execution_count": 13,
      "outputs": [
        {
          "output_type": "display_data",
          "data": {
            "text/plain": [
              "<Figure size 600x400 with 1 Axes>"
            ],
            "image/png": "[encoded data removed]"
          },
          "metadata": {}
        }
      ]
    },
    {
      "cell_type": "code",
      "source": [
        "# Calcular la longitud de las conversaciones\n",
        "df['longitud_conversacion'] = df['Conversación'].apply(lambda x: len(x.split()))\n",
        "\n",
        "print(df['longitud_conversacion'].describe())\n",
        "\n",
        "plt.figure(figsize=(8, 6))\n",
        "sns.histplot(data=df, x='longitud_conversacion', bins=20, kde=True)\n",
        "plt.title('Distribución de Longitud de Conversaciones')\n",
        "plt.xlabel('Longitud de Conversación')\n",
        "plt.ylabel('Frecuencia')\n",
        "plt.show()\n"
      ],
      "metadata": {
        "colab": {
          "base_uri": "https://localhost:8080/",
          "height": 721
        },
        "id": "GwJkjYMN1md8",
        "outputId": "ff0ddc51-d734-43ae-f02b-84e181163c2b"
      },
      "execution_count": 14,
      "outputs": [
        {
          "output_type": "stream",
          "name": "stdout",
          "text": [
            "count     29.000000\n",
            "mean     189.000000\n",
            "std       72.308367\n",
            "min      129.000000\n",
            "25%      150.000000\n",
            "50%      159.000000\n",
            "75%      186.000000\n",
            "max      438.000000\n",
            "Name: longitud_conversacion, dtype: float64\n"
          ]
        },
        {
          "output_type": "display_data",
          "data": {
            "text/plain": [
              "<Figure size 800x600 with 1 Axes>"
            ],
            "image/png": "[encoded data removed]"
          },
          "metadata": {}
        }
      ]
    },
    {
      "cell_type": "markdown",
      "source": [
        "**OBSERVACIONES:** *Si el conjunto de datos de entrenamiento contiene principalmente conversaciones cortas, el modelo puede estar sesgado hacia este tipo de conversaciones y tener un peor rendimiento en la predicción de conversaciones más largas,La precisión, por ejemplo, puede no ser una buena métrica para conversaciones largas, ya que un pequeño error en la predicción de una conversación larga puede tener un gran impacto en la puntuación general, se realizara un submuestreo aleatorio de las conversaciones más largas para que la distribución de la longitud sea más uniforme.*"
      ],
      "metadata": {
        "id": "Y7naLrAD3sBZ"
      }
    },
    {
      "cell_type": "markdown",
      "source": [
        "# DESARROLLO MODELO PREDICCION DE CIERRE DE NEGOCIO"
      ],
      "metadata": {
        "id": "Hw-yqbZvHKBn"
      }
    },
    {
      "cell_type": "markdown",
      "source": [
        "**PREPROCESAMIENTO**"
      ],
      "metadata": {
        "id": "jUr7cSvd7J5P"
      }
    },
    {
      "cell_type": "code",
      "source": [
        "def preprocess_text(text):\n",
        "    text = text.lower()\n",
        "    tokens = word_tokenize(text) # Tokenización\n",
        "    stop_words = set(stopwords.words('spanish'))     # Eliminar stopwords y puntuaciones\n",
        "    tokens = [word for word in tokens if word not in stop_words and word not in string.punctuation]\n",
        "    lemmatizer = WordNetLemmatizer()     # Lematización\n",
        "    tokens = [lemmatizer.lemmatize(word) for word in tokens]\n",
        "    clean_text = ' '.join(tokens)\n",
        "    return clean_text"
      ],
      "metadata": {
        "id": "EKUBKI8gIjh1"
      },
      "execution_count": 15,
      "outputs": []
    },
    {
      "cell_type": "code",
      "source": [
        "df['Conversacion'] = df['Conversacion'].apply(preprocess_text)\n",
        "\n",
        "X = df['Conversacion']\n",
        "y = df['Venta']\n",
        "X_train, X_test, y_train, y_test = train_test_split(X, y, test_size=0.3, random_state=42)\n",
        "\n",
        "# Submuestreo para balancear las clases\n",
        "train_data = pd.concat([X_train, y_train], axis=1)\n",
        "negociacion_cerrada = train_data[train_data['Venta'] == True]\n",
        "negociacion_no_cerrada = train_data[train_data['Venta'] == False]\n",
        "\n",
        "# Determinar el número de muestras en la clase minoritaria\n",
        "min_samples = min(len(negociacion_cerrada), len(negociacion_no_cerrada))\n",
        "\n",
        "# Realizar el submuestreo con el número de muestras en la clase minoritaria\n",
        "negociacion_no_cerrada_downsampled = resample(negociacion_no_cerrada,\n",
        "                                              replace=False,\n",
        "                                              n_samples=min_samples,\n",
        "                                              random_state=42)\n",
        "\n",
        "# Combinar los datasets balanceados\n",
        "train_data_balanced = pd.concat([negociacion_cerrada, negociacion_no_cerrada_downsampled])"
      ],
      "metadata": {
        "id": "OUE5CwZ087xE"
      },
      "execution_count": 16,
      "outputs": []
    },
    {
      "cell_type": "markdown",
      "source": [
        "**DEFINICION DE PIPELINE Y ENTRENAMIENTO DEL MODELO**"
      ],
      "metadata": {
        "id": "_YVEtoC0FwTd"
      }
    },
    {
      "cell_type": "code",
      "source": [
        "model = Pipeline([\n",
        "    ('tfidf', TfidfVectorizer()),\n",
        "    ('svm', SVC(kernel='linear'))\n",
        "])\n",
        "\n",
        "model.fit(train_data_balanced['Conversacion'], train_data_balanced['Venta'])"
      ],
      "metadata": {
        "colab": {
          "base_uri": "https://localhost:8080/",
          "height": 126
        },
        "id": "bIxrnv4UFmLC",
        "outputId": "cc2da60e-7b91-44a0-fc72-ab99503f2d83"
      },
      "execution_count": 17,
      "outputs": [
        {
          "output_type": "execute_result",
          "data": {
            "text/plain": [
              "Pipeline(steps=[('tfidf', TfidfVectorizer()), ('svm', SVC(kernel='linear'))])"
            ],
            "text/html": [
              "<style>#sk-container-id-1 {color: black;background-color: white;}#sk-container-id-1 pre{padding: 0;}#sk-container-id-1 div.sk-toggleable {background-color: white;}#sk-container-id-1 label.sk-toggleable__label {cursor: pointer;display: block;width: 100%;margin-bottom: 0;padding: 0.3em;box-sizing: border-box;text-align: center;}#sk-container-id-1 label.sk-toggleable__label-arrow:before {content: \"▸\";float: left;margin-right: 0.25em;color: #696969;}#sk-container-id-1 label.sk-toggleable__label-arrow:hover:before {color: black;}#sk-container-id-1 div.sk-estimator:hover label.sk-toggleable__label-arrow:before {color: black;}#sk-container-id-1 div.sk-toggleable__content {max-height: 0;max-width: 0;overflow: hidden;text-align: left;background-color: #f0f8ff;}#sk-container-id-1 div.sk-toggleable__content pre {margin: 0.2em;color: black;border-radius: 0.25em;background-color: #f0f8ff;}#sk-container-id-1 input.sk-toggleable__control:checked~div.sk-toggleable__content {max-height: 200px;max-width: 100%;overflow: auto;}#sk-container-id-1 input.sk-toggleable__control:checked~label.sk-toggleable__label-arrow:before {content: \"▾\";}#sk-container-id-1 div.sk-estimator input.sk-toggleable__control:checked~label.sk-toggleable__label {background-color: #d4ebff;}#sk-container-id-1 div.sk-label input.sk-toggleable__control:checked~label.sk-toggleable__label {background-color: #d4ebff;}#sk-container-id-1 input.sk-hidden--visually {border: 0;clip: rect(1px 1px 1px 1px);clip: rect(1px, 1px, 1px, 1px);height: 1px;margin: -1px;overflow: hidden;padding: 0;position: absolute;width: 1px;}#sk-container-id-1 div.sk-estimator {font-family: monospace;background-color: #f0f8ff;border: 1px dotted black;border-radius: 0.25em;box-sizing: border-box;margin-bottom: 0.5em;}#sk-container-id-1 div.sk-estimator:hover {background-color: #d4ebff;}#sk-container-id-1 div.sk-parallel-item::after {content: \"\";width: 100%;border-bottom: 1px solid gray;flex-grow: 1;}#sk-container-id-1 div.sk-label:hover label.sk-toggleable__label {background-color: #d4ebff;}#sk-container-id-1 div.sk-serial::before {content: \"\";position: absolute;border-left: 1px solid gray;box-sizing: border-box;top: 0;bottom: 0;left: 50%;z-index: 0;}#sk-container-id-1 div.sk-serial {display: flex;flex-direction: column;align-items: center;background-color: white;padding-right: 0.2em;padding-left: 0.2em;position: relative;}#sk-container-id-1 div.sk-item {position: relative;z-index: 1;}#sk-container-id-1 div.sk-parallel {display: flex;align-items: stretch;justify-content: center;background-color: white;position: relative;}#sk-container-id-1 div.sk-item::before, #sk-container-id-1 div.sk-parallel-item::before {content: \"\";position: absolute;border-left: 1px solid gray;box-sizing: border-box;top: 0;bottom: 0;left: 50%;z-index: -1;}#sk-container-id-1 div.sk-parallel-item {display: flex;flex-direction: column;z-index: 1;position: relative;background-color: white;}#sk-container-id-1 div.sk-parallel-item:first-child::after {align-self: flex-end;width: 50%;}#sk-container-id-1 div.sk-parallel-item:last-child::after {align-self: flex-start;width: 50%;}#sk-container-id-1 div.sk-parallel-item:only-child::after {width: 0;}#sk-container-id-1 div.sk-dashed-wrapped {border: 1px dashed gray;margin: 0 0.4em 0.5em 0.4em;box-sizing: border-box;padding-bottom: 0.4em;background-color: white;}#sk-container-id-1 div.sk-label label {font-family: monospace;font-weight: bold;display: inline-block;line-height: 1.2em;}#sk-container-id-1 div.sk-label-container {text-align: center;}#sk-container-id-1 div.sk-container {/* jupyter's `normalize.less` sets `[hidden] { display: none; }` but bootstrap.min.css set `[hidden] { display: none !important; }` so we also need the `!important` here to be able to override the default hidden behavior on the sphinx rendered scikit-learn.org. See: https://github.com/scikit-learn/scikit-learn/issues/21755 */display: inline-block !important;position: relative;}#sk-container-id-1 div.sk-text-repr-fallback {display: none;}</style><div id=\"sk-container-id-1\" class=\"sk-top-container\"><div class=\"sk-text-repr-fallback\"><pre>Pipeline(steps=[(&#x27;tfidf&#x27;, TfidfVectorizer()), (&#x27;svm&#x27;, SVC(kernel=&#x27;linear&#x27;))])</pre><b>In a Jupyter environment, please rerun this cell to show the HTML representation or trust the notebook. <br />On GitHub, the HTML representation is unable to render, please try loading this page with nbviewer.org.</b></div><div class=\"sk-container\" hidden><div class=\"sk-item sk-dashed-wrapped\"><div class=\"sk-label-container\"><div class=\"sk-label sk-toggleable\"><input class=\"sk-toggleable__control sk-hidden--visually\" id=\"sk-estimator-id-1\" type=\"checkbox\" ><label for=\"sk-estimator-id-1\" class=\"sk-toggleable__label sk-toggleable__label-arrow\">Pipeline</label><div class=\"sk-toggleable__content\"><pre>Pipeline(steps=[(&#x27;tfidf&#x27;, TfidfVectorizer()), (&#x27;svm&#x27;, SVC(kernel=&#x27;linear&#x27;))])</pre></div></div></div><div class=\"sk-serial\"><div class=\"sk-item\"><div class=\"sk-estimator sk-toggleable\"><input class=\"sk-toggleable__control sk-hidden--visually\" id=\"sk-estimator-id-2\" type=\"checkbox\" ><label for=\"sk-estimator-id-2\" class=\"sk-toggleable__label sk-toggleable__label-arrow\">TfidfVectorizer</label><div class=\"sk-toggleable__content\"><pre>TfidfVectorizer()</pre></div></div></div><div class=\"sk-item\"><div class=\"sk-estimator sk-toggleable\"><input class=\"sk-toggleable__control sk-hidden--visually\" id=\"sk-estimator-id-3\" type=\"checkbox\" ><label for=\"sk-estimator-id-3\" class=\"sk-toggleable__label sk-toggleable__label-arrow\">SVC</label><div class=\"sk-toggleable__content\"><pre>SVC(kernel=&#x27;linear&#x27;)</pre></div></div></div></div></div></div></div>"
            ]
          },
          "metadata": {},
          "execution_count": 17
        }
      ]
    },
    {
      "cell_type": "markdown",
      "source": [
        "**PREDICCIÓN Y CALCULO DE METRICAS**"
      ],
      "metadata": {
        "id": "YOEjl7mIGJg2"
      }
    },
    {
      "cell_type": "code",
      "source": [
        "y_pred = model.predict(X_test)\n",
        "\n",
        "accuracy = accuracy_score(y_test, y_pred)\n",
        "precision = precision_score(y_test, y_pred)\n",
        "recall = recall_score(y_test, y_pred)\n",
        "f1 = f1_score(y_test, y_pred)\n",
        "conf_matrix = confusion_matrix(y_test, y_pred)\n",
        "\n",
        "print(\"Accuracy:\", accuracy)\n",
        "print(\"Precision:\", precision)\n",
        "print(\"Recall:\", recall)\n",
        "print(\"F1 Score:\", f1)\n",
        "print(\"Confusion Matrix:\")\n",
        "print(conf_matrix)\n"
      ],
      "metadata": {
        "colab": {
          "base_uri": "https://localhost:8080/"
        },
        "id": "xchjdrjETSKS",
        "outputId": "60b6188f-21f5-44ce-a447-c055622165fc"
      },
      "execution_count": 22,
      "outputs": [
        {
          "output_type": "stream",
          "name": "stdout",
          "text": [
            "Accuracy: 0.8888888888888888\n",
            "Precision: 0.8571428571428571\n",
            "Recall: 1.0\n",
            "F1 Score: 0.923076923076923\n",
            "Confusion Matrix:\n",
            "[[2 1]\n",
            " [0 6]]\n"
          ]
        }
      ]
    },
    {
      "cell_type": "markdown",
      "source": [
        "**HIPERPARAMETRIZACION**"
      ],
      "metadata": {
        "id": "Y-Jbg5bSdmW0"
      }
    },
    {
      "cell_type": "code",
      "source": [
        "from sklearn.model_selection import GridSearchCV\n",
        "from sklearn.pipeline import Pipeline\n",
        "from sklearn.feature_extraction.text import TfidfVectorizer\n",
        "from sklearn.svm import SVC\n",
        "\n",
        "pipeline = Pipeline([\n",
        "    ('tfidf', TfidfVectorizer()),\n",
        "    ('svm', SVC())\n",
        "])\n",
        "\n",
        "param_grid = {\n",
        "    'tfidf__max_df': [0.9, 0.95, 1.0],\n",
        "    'tfidf__min_df': [1, 2, 5],\n",
        "    'tfidf__ngram_range': [(1, 1), (1, 2)],\n",
        "    'svm__C': [0.1, 1, 10],\n",
        "    'svm__kernel': ['linear', 'rbf'],\n",
        "    'svm__gamma': ['scale', 'auto']\n",
        "}\n",
        "\n",
        "grid_search = GridSearchCV(pipeline, param_grid, cv=5, scoring='accuracy', n_jobs=-1)\n",
        "\n",
        "grid_search.fit(train_data_balanced['Conversacion'], train_data_balanced['Venta'])\n",
        "\n",
        "best_params = grid_search.best_params_\n",
        "best_score = grid_search.best_score_\n",
        "\n",
        "print(\"Mejores hiperparámetros:\", best_params)\n",
        "print(\"Mejor puntuación de validación:\", best_score)\n"
      ],
      "metadata": {
        "colab": {
          "base_uri": "https://localhost:8080/"
        },
        "id": "-Audl2JAbphS",
        "outputId": "45579c5c-4fe2-404b-8510-f44b40445195"
      },
      "execution_count": 19,
      "outputs": [
        {
          "output_type": "stream",
          "name": "stderr",
          "text": [
            "/usr/local/lib/python3.10/dist-packages/joblib/externals/loky/backend/fork_exec.py:38: RuntimeWarning: os.fork() was called. os.fork() is incompatible with multithreaded code, and JAX is multithreaded, so this will likely lead to a deadlock.\n",
            "  pid = os.fork()\n",
            "/usr/local/lib/python3.10/dist-packages/joblib/externals/loky/backend/fork_exec.py:38: RuntimeWarning: os.fork() was called. os.fork() is incompatible with multithreaded code, and JAX is multithreaded, so this will likely lead to a deadlock.\n",
            "  pid = os.fork()\n"
          ]
        },
        {
          "output_type": "stream",
          "name": "stdout",
          "text": [
            "Mejores hiperparámetros: {'svm__C': 1, 'svm__gamma': 'scale', 'svm__kernel': 'linear', 'tfidf__max_df': 0.9, 'tfidf__min_df': 5, 'tfidf__ngram_range': (1, 1)}\n",
            "Mejor puntuación de validación: 1.0\n"
          ]
        }
      ]
    },
    {
      "cell_type": "markdown",
      "source": [
        "**VALIDACIÓN CRUZADA**"
      ],
      "metadata": {
        "id": "6KlTl63-GTG4"
      }
    },
    {
      "cell_type": "code",
      "source": [
        "model = Pipeline([\n",
        "    ('tfidf', TfidfVectorizer()),\n",
        "    ('svm', SVC(kernel='linear'))\n",
        "])\n",
        "\n",
        "cv_scores = cross_val_score(model, X_train, y_train, cv=10) # Lo hacemos con 10 folds\n",
        "\n",
        "print(\"Scores de Validación Cruzada:\", cv_scores)\n",
        "\n",
        "print(\"Promedio de Scores de Validación Cruzada:\", cv_scores.mean())"
      ],
      "metadata": {
        "colab": {
          "base_uri": "https://localhost:8080/"
        },
        "id": "bQh2HrKon72J",
        "outputId": "023af206-c688-404d-f033-373ed037bc34"
      },
      "execution_count": 20,
      "outputs": [
        {
          "output_type": "stream",
          "name": "stderr",
          "text": [
            "/usr/local/lib/python3.10/dist-packages/sklearn/model_selection/_split.py:700: UserWarning: The least populated class in y has only 7 members, which is less than n_splits=10.\n",
            "  warnings.warn(\n"
          ]
        },
        {
          "output_type": "stream",
          "name": "stdout",
          "text": [
            "Scores de Validación Cruzada: [1.  1.  1.  1.  1.  1.  1.  1.  0.5 1. ]\n",
            "Promedio de Scores de Validación Cruzada: 0.95\n"
          ]
        }
      ]
    },
    {
      "cell_type": "code",
      "source": [
        "model = Pipeline([\n",
        "    ('tfidf', TfidfVectorizer()),\n",
        "    ('svm', SVC(kernel='linear'))\n",
        "])\n",
        "\n",
        "model.fit(train_data_balanced['Conversacion'], train_data_balanced['Venta'])"
      ],
      "metadata": {
        "colab": {
          "base_uri": "https://localhost:8080/",
          "height": 126
        },
        "id": "dqaO05IoOGTA",
        "outputId": "87403099-c642-4900-c050-1c30f2201e74"
      },
      "execution_count": 21,
      "outputs": [
        {
          "output_type": "execute_result",
          "data": {
            "text/plain": [
              "Pipeline(steps=[('tfidf', TfidfVectorizer()), ('svm', SVC(kernel='linear'))])"
            ],
            "text/html": [
              "<style>#sk-container-id-2 {color: black;background-color: white;}#sk-container-id-2 pre{padding: 0;}#sk-container-id-2 div.sk-toggleable {background-color: white;}#sk-container-id-2 label.sk-toggleable__label {cursor: pointer;display: block;width: 100%;margin-bottom: 0;padding: 0.3em;box-sizing: border-box;text-align: center;}#sk-container-id-2 label.sk-toggleable__label-arrow:before {content: \"▸\";float: left;margin-right: 0.25em;color: #696969;}#sk-container-id-2 label.sk-toggleable__label-arrow:hover:before {color: black;}#sk-container-id-2 div.sk-estimator:hover label.sk-toggleable__label-arrow:before {color: black;}#sk-container-id-2 div.sk-toggleable__content {max-height: 0;max-width: 0;overflow: hidden;text-align: left;background-color: #f0f8ff;}#sk-container-id-2 div.sk-toggleable__content pre {margin: 0.2em;color: black;border-radius: 0.25em;background-color: #f0f8ff;}#sk-container-id-2 input.sk-toggleable__control:checked~div.sk-toggleable__content {max-height: 200px;max-width: 100%;overflow: auto;}#sk-container-id-2 input.sk-toggleable__control:checked~label.sk-toggleable__label-arrow:before {content: \"▾\";}#sk-container-id-2 div.sk-estimator input.sk-toggleable__control:checked~label.sk-toggleable__label {background-color: #d4ebff;}#sk-container-id-2 div.sk-label input.sk-toggleable__control:checked~label.sk-toggleable__label {background-color: #d4ebff;}#sk-container-id-2 input.sk-hidden--visually {border: 0;clip: rect(1px 1px 1px 1px);clip: rect(1px, 1px, 1px, 1px);height: 1px;margin: -1px;overflow: hidden;padding: 0;position: absolute;width: 1px;}#sk-container-id-2 div.sk-estimator {font-family: monospace;background-color: #f0f8ff;border: 1px dotted black;border-radius: 0.25em;box-sizing: border-box;margin-bottom: 0.5em;}#sk-container-id-2 div.sk-estimator:hover {background-color: #d4ebff;}#sk-container-id-2 div.sk-parallel-item::after {content: \"\";width: 100%;border-bottom: 1px solid gray;flex-grow: 1;}#sk-container-id-2 div.sk-label:hover label.sk-toggleable__label {background-color: #d4ebff;}#sk-container-id-2 div.sk-serial::before {content: \"\";position: absolute;border-left: 1px solid gray;box-sizing: border-box;top: 0;bottom: 0;left: 50%;z-index: 0;}#sk-container-id-2 div.sk-serial {display: flex;flex-direction: column;align-items: center;background-color: white;padding-right: 0.2em;padding-left: 0.2em;position: relative;}#sk-container-id-2 div.sk-item {position: relative;z-index: 1;}#sk-container-id-2 div.sk-parallel {display: flex;align-items: stretch;justify-content: center;background-color: white;position: relative;}#sk-container-id-2 div.sk-item::before, #sk-container-id-2 div.sk-parallel-item::before {content: \"\";position: absolute;border-left: 1px solid gray;box-sizing: border-box;top: 0;bottom: 0;left: 50%;z-index: -1;}#sk-container-id-2 div.sk-parallel-item {display: flex;flex-direction: column;z-index: 1;position: relative;background-color: white;}#sk-container-id-2 div.sk-parallel-item:first-child::after {align-self: flex-end;width: 50%;}#sk-container-id-2 div.sk-parallel-item:last-child::after {align-self: flex-start;width: 50%;}#sk-container-id-2 div.sk-parallel-item:only-child::after {width: 0;}#sk-container-id-2 div.sk-dashed-wrapped {border: 1px dashed gray;margin: 0 0.4em 0.5em 0.4em;box-sizing: border-box;padding-bottom: 0.4em;background-color: white;}#sk-container-id-2 div.sk-label label {font-family: monospace;font-weight: bold;display: inline-block;line-height: 1.2em;}#sk-container-id-2 div.sk-label-container {text-align: center;}#sk-container-id-2 div.sk-container {/* jupyter's `normalize.less` sets `[hidden] { display: none; }` but bootstrap.min.css set `[hidden] { display: none !important; }` so we also need the `!important` here to be able to override the default hidden behavior on the sphinx rendered scikit-learn.org. See: https://github.com/scikit-learn/scikit-learn/issues/21755 */display: inline-block !important;position: relative;}#sk-container-id-2 div.sk-text-repr-fallback {display: none;}</style><div id=\"sk-container-id-2\" class=\"sk-top-container\"><div class=\"sk-text-repr-fallback\"><pre>Pipeline(steps=[(&#x27;tfidf&#x27;, TfidfVectorizer()), (&#x27;svm&#x27;, SVC(kernel=&#x27;linear&#x27;))])</pre><b>In a Jupyter environment, please rerun this cell to show the HTML representation or trust the notebook. <br />On GitHub, the HTML representation is unable to render, please try loading this page with nbviewer.org.</b></div><div class=\"sk-container\" hidden><div class=\"sk-item sk-dashed-wrapped\"><div class=\"sk-label-container\"><div class=\"sk-label sk-toggleable\"><input class=\"sk-toggleable__control sk-hidden--visually\" id=\"sk-estimator-id-4\" type=\"checkbox\" ><label for=\"sk-estimator-id-4\" class=\"sk-toggleable__label sk-toggleable__label-arrow\">Pipeline</label><div class=\"sk-toggleable__content\"><pre>Pipeline(steps=[(&#x27;tfidf&#x27;, TfidfVectorizer()), (&#x27;svm&#x27;, SVC(kernel=&#x27;linear&#x27;))])</pre></div></div></div><div class=\"sk-serial\"><div class=\"sk-item\"><div class=\"sk-estimator sk-toggleable\"><input class=\"sk-toggleable__control sk-hidden--visually\" id=\"sk-estimator-id-5\" type=\"checkbox\" ><label for=\"sk-estimator-id-5\" class=\"sk-toggleable__label sk-toggleable__label-arrow\">TfidfVectorizer</label><div class=\"sk-toggleable__content\"><pre>TfidfVectorizer()</pre></div></div></div><div class=\"sk-item\"><div class=\"sk-estimator sk-toggleable\"><input class=\"sk-toggleable__control sk-hidden--visually\" id=\"sk-estimator-id-6\" type=\"checkbox\" ><label for=\"sk-estimator-id-6\" class=\"sk-toggleable__label sk-toggleable__label-arrow\">SVC</label><div class=\"sk-toggleable__content\"><pre>SVC(kernel=&#x27;linear&#x27;)</pre></div></div></div></div></div></div></div>"
            ]
          },
          "metadata": {},
          "execution_count": 21
        }
      ]
    },
    {
      "cell_type": "markdown",
      "source": [
        "**EXPORTACIÓN DEL MODELO DE PREDICCION DE CIERRE DE NEGOCIO**"
      ],
      "metadata": {
        "id": "oHuMjSo5Gfwr"
      }
    },
    {
      "cell_type": "code",
      "source": [
        "joblib.dump(model, '/content/drive/MyDrive/Prediccion_clasificacion_chat/modelo_chats.pkl')"
      ],
      "metadata": {
        "colab": {
          "base_uri": "https://localhost:8080/"
        },
        "id": "6ohuc9kfzvLK",
        "outputId": "361f57f7-663c-4282-9b7e-de9fec23b259"
      },
      "execution_count": 24,
      "outputs": [
        {
          "output_type": "execute_result",
          "data": {
            "text/plain": [
              "['/content/drive/MyDrive/Prediccion_clasificacion_chat/modelo_chats.pkl']"
            ]
          },
          "metadata": {},
          "execution_count": 24
        }
      ]
    },
    {
      "cell_type": "markdown",
      "source": [
        "**PRUEBA CON TEXTO COMO INPUT**"
      ],
      "metadata": {
        "id": "q8_2ueWfGyrT"
      }
    },
    {
      "cell_type": "code",
      "source": [
        "def predecir_negociacion(conversacion):\n",
        "    preprocessed_conversacion = preprocess_text(conversacion)\n",
        "    prediction = model.predict([preprocessed_conversacion])\n",
        "    return bool(prediction[0])\n",
        "\n",
        "conversacion_ejemplo = \"\"\"Agente (Laura): ¡Hola! ¿En qué puedo ayudarte hoy?\n",
        "\n",
        "Cliente (Carlos): Hola, estoy buscando un nuevo smartphone. Mi viejo ya está fallando y necesito uno con una buena cámara y batería duradera.\n",
        "\n",
        "Agente (Laura): Entiendo, Carlos. Tenemos una amplia gama de smartphones. ¿Tienes alguna marca en mente o alguna característica específica que estés buscando además de una buena cámara y batería?\n",
        "\n",
        "Cliente (Carlos): He escuchado cosas buenas sobre los modelos de Samsung. También quiero que tenga suficiente espacio de almacenamiento porque tomo muchas fotos y videos.\n",
        "\n",
        "Agente (Laura): Perfecto, Samsung es una excelente elección. Te recomendaría el Samsung Galaxy S21. Tiene una cámara de 64MP, batería de 4000mAh y viene con 128GB de almacenamiento interno. ¿Qué te parece?\n",
        "\n",
        "Cliente (Carlos): Suena bien. ¿Cuánto cuesta?\n",
        "\n",
        "Agente (Laura): Actualmente, el Samsung Galaxy S21 está en oferta por $799. Además, ofrecemos financiación sin intereses si lo prefieres.\n",
        "\n",
        "Cliente (Carlos): Eso suena genial. ¿Qué otros beneficios ofrece este modelo?\n",
        "\n",
        "Agente (Laura): Además de la impresionante cámara y batería, el Galaxy S21 cuenta con un procesador muy rápido, pantalla de 6.2 pulgadas con resolución Full HD+ y es resistente al agua y al polvo. También incluye la posibilidad de expandir el almacenamiento con una tarjeta microSD.\n",
        "\n",
        "Cliente (Carlos): Parece que es justo lo que estoy buscando. ¿Cómo funciona el proceso de financiación?\n",
        "\n",
        "Agente (Laura): Es muy sencillo. Puedes elegir pagar en cuotas mensuales sin intereses durante 12 meses. Solo necesitas una tarjeta de crédito válida y completar una breve solicitud en línea.\n",
        "\n",
        "Cliente (Carlos): Perfecto, me interesa la financiación. ¿Cómo podemos proceder?\n",
        "\n",
        "Agente (Laura): ¡Excelente! Te enviaré un enlace para que completes la solicitud en línea. Una vez aprobada, te enviaremos el smartphone a tu domicilio sin costo adicional en un plazo de 3 a 5 días hábiles. ¿Te parece bien?\n",
        "\n",
        "Cliente (Carlos): Sí, eso suena perfecto. Gracias por tu ayuda, Laura.\n",
        "\n",
        "Agente (Laura): Es un placer, Carlos. Te enviaré el enlace de inmediato. ¿Puedes confirmar que recibiste el enlace y que todo está en orden?\n",
        "\n",
        "Cliente (Carlos): Sí, acabo de recibirlo. Déjame completar la solicitud.\n",
        "\n",
        "(Pausa mientras Carlos completa la solicitud)\n",
        "\n",
        "Cliente (Carlos): Listo, ya envié la solicitud.\n",
        "\n",
        "Agente (Laura): Perfecto, Carlos. Déjame verificar... Sí, tu solicitud ha sido aprobada. Hemos procesado tu pedido y el Samsung Galaxy S21 será enviado a tu dirección. Deberías recibirlo en 3 a 5 días hábiles.\n",
        "\n",
        "Cliente (Carlos): ¡Genial! Muchas gracias, Laura. Estoy muy emocionado por recibir mi nuevo smartphone.\n",
        "\n",
        "Agente (Laura): Me alegra escuchar eso, Carlos. Si necesitas algo más o tienes alguna pregunta, no dudes en contactarnos. ¡Que disfrutes tu nuevo teléfono!\n",
        "\n",
        "Cliente (Carlos): Seguro, gracias de nuevo. ¡Hasta luego!\n",
        "\n",
        "Agente (Laura): ¡Hasta luego, Carlos! Que tengas un excelente día.\"\"\"\n",
        "resultado = predecir_negociacion(conversacion_ejemplo)\n",
        "print(\"¿La negociación fue cerrada exitosamente? : \", resultado)"
      ],
      "metadata": {
        "colab": {
          "base_uri": "https://localhost:8080/"
        },
        "id": "SG5zfkuffrss",
        "outputId": "76c630c8-d205-443f-ac8d-16a36be86119"
      },
      "execution_count": 25,
      "outputs": [
        {
          "output_type": "stream",
          "name": "stdout",
          "text": [
            "¿La negociación fue cerrada exitosamente? :  True\n"
          ]
        }
      ]
    },
    {
      "cell_type": "markdown",
      "source": [
        "# DESARROLLO MODELO CLASIFICACION TIPO DE NEGOCIO"
      ],
      "metadata": {
        "id": "RcDQghpeHAV1"
      }
    },
    {
      "cell_type": "markdown",
      "source": [
        "**PREPROCESAMIENTO**"
      ],
      "metadata": {
        "id": "VWNTDyzTIOaL"
      }
    },
    {
      "cell_type": "code",
      "source": [
        "df['Conversacion'] = df['Conversacion'].apply(preprocess_text)\n",
        "df['Categoria'] = df['Categoria'].apply(preprocess_text)\n"
      ],
      "metadata": {
        "id": "4BF37vQ43-p5",
        "collapsed": true
      },
      "execution_count": 26,
      "outputs": []
    },
    {
      "cell_type": "code",
      "source": [
        "train_texts, val_texts, train_labels, val_labels = train_test_split(df['Conversacion'], df['Categoria'], test_size=0.2, random_state=42)\n",
        "\n",
        "tokenizer = AutoTokenizer.from_pretrained(\"dccuchile/bert-base-spanish-wwm-uncased\")\n",
        "train_encodings = tokenizer(list(train_texts), truncation=True, padding=True, max_length=128)\n",
        "val_encodings = tokenizer(list(val_texts), truncation=True, padding=True, max_length=128)\n",
        "\n",
        "label_encoder = LabelEncoder()\n",
        "train_labels_encoded = label_encoder.fit_transform(train_labels)\n",
        "val_labels_encoded = label_encoder.transform(val_labels)\n",
        "\n",
        "class CustomDataset(torch.utils.data.Dataset):\n",
        "    def __init__(self, encodings, labels):\n",
        "        self.encodings = encodings\n",
        "        self.labels = labels\n",
        "\n",
        "    def __getitem__(self, idx):\n",
        "        item = {key: torch.tensor(val[idx]) for key, val in self.encodings.items()}\n",
        "        item['labels'] = torch.tensor(self.labels[idx], dtype=torch.float)\n",
        "        return item\n",
        "    def __len__(self):\n",
        "        return len(self.labels)\n",
        "\n",
        "train_dataset = CustomDataset(train_encodings, train_labels_encoded)\n",
        "val_dataset = CustomDataset(val_encodings, val_labels_encoded)\n",
        "\n",
        "model = AutoModelForSequenceClassification.from_pretrained(\"dccuchile/bert-base-spanish-wwm-uncased\", num_labels=len(label_encoder.classes_))\n",
        "\n",
        "# Establecer las gradientes en cero para congelar las capas anteriores excepto las últimas\n",
        "for param in model.base_model.parameters():\n",
        "    param.requires_grad = False\n",
        "\n",
        "training_args = TrainingArguments(\n",
        "    output_dir='./results',\n",
        "    num_train_epochs=15,\n",
        "    per_device_train_batch_size=32,\n",
        "    per_device_eval_batch_size=128,\n",
        "    warmup_steps=500,\n",
        "    weight_decay=0.01,\n",
        "    logging_dir='./logs',\n",
        "    logging_steps=10,\n",
        "    evaluation_strategy=\"epoch\"\n",
        ")\n",
        "\n",
        "trainer = Trainer(\n",
        "    model=model,\n",
        "    args=training_args,\n",
        "    train_dataset=train_dataset,\n",
        "    eval_dataset=val_dataset\n",
        ")"
      ],
      "metadata": {
        "colab": {
          "base_uri": "https://localhost:8080/"
        },
        "id": "mbXVskA84JGj",
        "outputId": "b6ed5faf-e4a6-418b-9fd4-1d2b9879d379"
      },
      "execution_count": 34,
      "outputs": [
        {
          "output_type": "stream",
          "name": "stderr",
          "text": [
            "Some weights of BertForSequenceClassification were not initialized from the model checkpoint at dccuchile/bert-base-spanish-wwm-uncased and are newly initialized: ['bert.pooler.dense.bias', 'bert.pooler.dense.weight', 'classifier.bias', 'classifier.weight']\n",
            "You should probably TRAIN this model on a down-stream task to be able to use it for predictions and inference.\n",
            "/usr/local/lib/python3.10/dist-packages/transformers/training_args.py:1474: FutureWarning: `evaluation_strategy` is deprecated and will be removed in version 4.46 of 🤗 Transformers. Use `eval_strategy` instead\n",
            "  warnings.warn(\n"
          ]
        }
      ]
    },
    {
      "cell_type": "markdown",
      "source": [
        "**ENTRENAMIENTO DEL MODELO**"
      ],
      "metadata": {
        "id": "6MzZ3lghKWP5"
      }
    },
    {
      "cell_type": "code",
      "source": [
        "trainer.train()"
      ],
      "metadata": {
        "colab": {
          "base_uri": "https://localhost:8080/",
          "height": 580
        },
        "id": "Drl5Mvv2KVQ-",
        "outputId": "3d29a68c-7c35-4ccc-8597-e75d0ea54a65"
      },
      "execution_count": 35,
      "outputs": [
        {
          "output_type": "display_data",
          "data": {
            "text/plain": [
              "<IPython.core.display.HTML object>"
            ],
            "text/html": [
              "\n",
              "    <div>\n",
              "      \n",
              "      <progress value='15' max='15' style='width:300px; height:20px; vertical-align: middle;'></progress>\n",
              "      [15/15 00:02, Epoch 15/15]\n",
              "    </div>\n",
              "    <table border=\"1\" class=\"dataframe\">\n",
              "  <thead>\n",
              " <tr style=\"text-align: left;\">\n",
              "      <th>Epoch</th>\n",
              "      <th>Training Loss</th>\n",
              "      <th>Validation Loss</th>\n",
              "    </tr>\n",
              "  </thead>\n",
              "  <tbody>\n",
              "    <tr>\n",
              "      <td>1</td>\n",
              "      <td>No log</td>\n",
              "      <td>0.084017</td>\n",
              "    </tr>\n",
              "    <tr>\n",
              "      <td>2</td>\n",
              "      <td>No log</td>\n",
              "      <td>0.084005</td>\n",
              "    </tr>\n",
              "    <tr>\n",
              "      <td>3</td>\n",
              "      <td>No log</td>\n",
              "      <td>0.083982</td>\n",
              "    </tr>\n",
              "    <tr>\n",
              "      <td>4</td>\n",
              "      <td>No log</td>\n",
              "      <td>0.083948</td>\n",
              "    </tr>\n",
              "    <tr>\n",
              "      <td>5</td>\n",
              "      <td>No log</td>\n",
              "      <td>0.083902</td>\n",
              "    </tr>\n",
              "    <tr>\n",
              "      <td>6</td>\n",
              "      <td>No log</td>\n",
              "      <td>0.083844</td>\n",
              "    </tr>\n",
              "    <tr>\n",
              "      <td>7</td>\n",
              "      <td>No log</td>\n",
              "      <td>0.083776</td>\n",
              "    </tr>\n",
              "    <tr>\n",
              "      <td>8</td>\n",
              "      <td>No log</td>\n",
              "      <td>0.083695</td>\n",
              "    </tr>\n",
              "    <tr>\n",
              "      <td>9</td>\n",
              "      <td>No log</td>\n",
              "      <td>0.083604</td>\n",
              "    </tr>\n",
              "    <tr>\n",
              "      <td>10</td>\n",
              "      <td>0.118200</td>\n",
              "      <td>0.083501</td>\n",
              "    </tr>\n",
              "    <tr>\n",
              "      <td>11</td>\n",
              "      <td>0.118200</td>\n",
              "      <td>0.083386</td>\n",
              "    </tr>\n",
              "    <tr>\n",
              "      <td>12</td>\n",
              "      <td>0.118200</td>\n",
              "      <td>0.083261</td>\n",
              "    </tr>\n",
              "    <tr>\n",
              "      <td>13</td>\n",
              "      <td>0.118200</td>\n",
              "      <td>0.083124</td>\n",
              "    </tr>\n",
              "    <tr>\n",
              "      <td>14</td>\n",
              "      <td>0.118200</td>\n",
              "      <td>0.082975</td>\n",
              "    </tr>\n",
              "    <tr>\n",
              "      <td>15</td>\n",
              "      <td>0.118200</td>\n",
              "      <td>0.082816</td>\n",
              "    </tr>\n",
              "  </tbody>\n",
              "</table><p>"
            ]
          },
          "metadata": {}
        },
        {
          "output_type": "execute_result",
          "data": {
            "text/plain": [
              "TrainOutput(global_step=15, training_loss=0.11716945568720499, metrics={'train_runtime': 3.4254, 'train_samples_per_second': 100.719, 'train_steps_per_second': 4.379, 'total_flos': 22693124770560.0, 'train_loss': 0.11716945568720499, 'epoch': 15.0})"
            ]
          },
          "metadata": {},
          "execution_count": 35
        }
      ]
    },
    {
      "cell_type": "markdown",
      "source": [
        "**DESCONGELAMIENTO DE LAS GRADIENTES Y RE-ENTRENAMIENTO AFINADO**"
      ],
      "metadata": {
        "id": "jSTa90DpKgao"
      }
    },
    {
      "cell_type": "code",
      "source": [
        "# Descongelar algunas capas y continuar entrenando\n",
        "for param in model.base_model.encoder.layer[-6:].parameters():\n",
        "    param.requires_grad = True\n",
        "\n",
        "training_args.num_train_epochs = 10  # Ajustar número de épocas según necesidad\n",
        "\n",
        "# Entrenar con más capas descongeladas\n",
        "trainer = Trainer(\n",
        "    model=model,\n",
        "    args=training_args,\n",
        "    train_dataset=train_dataset,\n",
        "    eval_dataset=val_dataset\n",
        ")\n",
        "\n",
        "trainer.train()"
      ],
      "metadata": {
        "colab": {
          "base_uri": "https://localhost:8080/",
          "height": 424
        },
        "id": "VRMxtqMJKfEk",
        "outputId": "1d25c22d-0da6-4449-df6e-b64723d30f6e"
      },
      "execution_count": 36,
      "outputs": [
        {
          "output_type": "display_data",
          "data": {
            "text/plain": [
              "<IPython.core.display.HTML object>"
            ],
            "text/html": [
              "\n",
              "    <div>\n",
              "      \n",
              "      <progress value='10' max='10' style='width:300px; height:20px; vertical-align: middle;'></progress>\n",
              "      [10/10 00:03, Epoch 10/10]\n",
              "    </div>\n",
              "    <table border=\"1\" class=\"dataframe\">\n",
              "  <thead>\n",
              " <tr style=\"text-align: left;\">\n",
              "      <th>Epoch</th>\n",
              "      <th>Training Loss</th>\n",
              "      <th>Validation Loss</th>\n",
              "    </tr>\n",
              "  </thead>\n",
              "  <tbody>\n",
              "    <tr>\n",
              "      <td>1</td>\n",
              "      <td>No log</td>\n",
              "      <td>0.082816</td>\n",
              "    </tr>\n",
              "    <tr>\n",
              "      <td>2</td>\n",
              "      <td>No log</td>\n",
              "      <td>0.081449</td>\n",
              "    </tr>\n",
              "    <tr>\n",
              "      <td>3</td>\n",
              "      <td>No log</td>\n",
              "      <td>0.078763</td>\n",
              "    </tr>\n",
              "    <tr>\n",
              "      <td>4</td>\n",
              "      <td>No log</td>\n",
              "      <td>0.074832</td>\n",
              "    </tr>\n",
              "    <tr>\n",
              "      <td>5</td>\n",
              "      <td>No log</td>\n",
              "      <td>0.069753</td>\n",
              "    </tr>\n",
              "    <tr>\n",
              "      <td>6</td>\n",
              "      <td>No log</td>\n",
              "      <td>0.063672</td>\n",
              "    </tr>\n",
              "    <tr>\n",
              "      <td>7</td>\n",
              "      <td>No log</td>\n",
              "      <td>0.056776</td>\n",
              "    </tr>\n",
              "    <tr>\n",
              "      <td>8</td>\n",
              "      <td>No log</td>\n",
              "      <td>0.049265</td>\n",
              "    </tr>\n",
              "    <tr>\n",
              "      <td>9</td>\n",
              "      <td>No log</td>\n",
              "      <td>0.041389</td>\n",
              "    </tr>\n",
              "    <tr>\n",
              "      <td>10</td>\n",
              "      <td>0.099400</td>\n",
              "      <td>0.033440</td>\n",
              "    </tr>\n",
              "  </tbody>\n",
              "</table><p>"
            ]
          },
          "metadata": {}
        },
        {
          "output_type": "execute_result",
          "data": {
            "text/plain": [
              "TrainOutput(global_step=10, training_loss=0.09942707419395447, metrics={'train_runtime': 3.7313, 'train_samples_per_second': 61.642, 'train_steps_per_second': 2.68, 'total_flos': 15128749847040.0, 'train_loss': 0.09942707419395447, 'epoch': 10.0})"
            ]
          },
          "metadata": {},
          "execution_count": 36
        }
      ]
    },
    {
      "cell_type": "markdown",
      "source": [
        "**GUARDAR MODELO**"
      ],
      "metadata": {
        "id": "HvkpUzgOKvZJ"
      }
    },
    {
      "cell_type": "code",
      "source": [
        "model.save_pretrained('/content/drive/MyDrive/Prediccion_clasificacion_chat/fine_tuned_model')\n",
        "tokenizer.save_pretrained('/content/drive/MyDrive/Prediccion_clasificacion_chat/fine_tuned_model')"
      ],
      "metadata": {
        "colab": {
          "base_uri": "https://localhost:8080/"
        },
        "id": "rwe2Th8AKtCe",
        "outputId": "7eb624b0-112a-42c1-f55a-f80364c53002"
      },
      "execution_count": 44,
      "outputs": [
        {
          "output_type": "execute_result",
          "data": {
            "text/plain": [
              "('/content/drive/MyDrive/Prediccion_clasificacion_chat/fine_tuned_model/tokenizer_config.json',\n",
              " '/content/drive/MyDrive/Prediccion_clasificacion_chat/fine_tuned_model/special_tokens_map.json',\n",
              " '/content/drive/MyDrive/Prediccion_clasificacion_chat/fine_tuned_model/vocab.txt',\n",
              " '/content/drive/MyDrive/Prediccion_clasificacion_chat/fine_tuned_model/added_tokens.json',\n",
              " '/content/drive/MyDrive/Prediccion_clasificacion_chat/fine_tuned_model/tokenizer.json')"
            ]
          },
          "metadata": {},
          "execution_count": 44
        }
      ]
    },
    {
      "cell_type": "markdown",
      "source": [
        "**PRUEBA DE MODELO DE CLASIFICACION DE CATEGORIA DE NEGOCIO**"
      ],
      "metadata": {
        "id": "Z49isNfVK1fy"
      }
    },
    {
      "cell_type": "code",
      "source": [
        "df = df.drop(\"Categoria\", axis=1)\n"
      ],
      "metadata": {
        "id": "_ZnIblxZs1uV"
      },
      "execution_count": 38,
      "outputs": []
    },
    {
      "cell_type": "code",
      "source": [
        "tokenizer = AutoTokenizer.from_pretrained('/content/drive/MyDrive/Prediccion_clasificacion_chat/fine_tuned_model') # Carga de nuestro modelo re-entrenado\n",
        "model = AutoModelForSequenceClassification.from_pretrained('/content/drive/MyDrive/Prediccion_clasificacion_chat/fine_tuned_model')"
      ],
      "metadata": {
        "id": "K4ECzZKWMJr7"
      },
      "execution_count": 39,
      "outputs": []
    },
    {
      "cell_type": "code",
      "source": [
        "# Crear pipeline de clasificación\n",
        "classifier = pipeline('text-classification', model=model, tokenizer=tokenizer)"
      ],
      "metadata": {
        "id": "HeiXWDQwLEgm"
      },
      "execution_count": 40,
      "outputs": []
    },
    {
      "cell_type": "code",
      "source": [
        "labels = [\"venta_de_producto_fisico\",\"venta_de_servicio\",\"venta_adicional\",\"venta_cruzada\",\"venta_de_suscripcion\",\"renovacion_de_contrato\",\"mejora_de_servicio\",\"reduccion_de_servicio\",\"soporte_tecnico\",\"soporte_de_facturacion\",\"procesamiento_de_reembolso\",\"resolucion_de_quejas\",\"solicitud_de_informacion\",\"programacion_de_citas\",\"recoleccion_de_feedback\",\"gestion_de_cuentas\",\"soporte_postventa\",\"conversion_de_clientes_potenciales\",\"recordatorio_de_renovacion\",\"retencion_de_clientes\"]\n",
        "\n",
        "def classify_conversation(conversation):\n",
        "    inputs = tokenizer(conversation, return_tensors=\"pt\", padding=True, truncation=True)\n",
        "    outputs = model(**inputs)\n",
        "    logits = outputs.logits\n",
        "    predicted_class = torch.argmax(logits, dim=1).item()\n",
        "    predicted_label = label_encoder.inverse_transform(np.array([predicted_class]))  # Convertir a array unidimensional\n",
        "    return predicted_label[0]\n",
        "\n",
        "df['Categoria'] = df['Conversacion'].apply(classify_conversation)"
      ],
      "metadata": {
        "id": "xeV4DKN7pCfq"
      },
      "execution_count": 41,
      "outputs": []
    },
    {
      "cell_type": "markdown",
      "source": [
        "**PRUEBA CON UN EJEMPLO**"
      ],
      "metadata": {
        "id": "8n4e5U7yLX9X"
      }
    },
    {
      "cell_type": "code",
      "source": [
        "conversacion_ejemplo = \"\"\"Agente: ¡Hola! Le escribimos para informarle que su dispositivo ya ha sido reparado y enviado de regreso a su dirección. Debería recibirlo en un plazo de 2 a 3 días hábiles.\n",
        "\n",
        "Cliente: (Con tono más tranquilo) ¡Muchas gracias por su aviso! Me alegra saber que el problema se ha solucionado.\n",
        "\n",
        "Agente: De nada. Nos alegra haber podido ayudarle. Esperamos que ahora pueda disfrutar de su dispositivo sin problemas.\n",
        "\n",
        "Cliente: Eso espero. Por cierto, me gustaría disculparme por mi comportamiento anterior. Estaba un poco molesto porque el dispositivo no funcionaba y no me comuniqué de la mejor manera.\n",
        "\n",
        "Agente: Agradezco su disculpa. Entendemos que a veces los clientes se frustran cuando tienen problemas con sus productos, y estamos aquí para ayudarlos de la mejor manera posible.\n",
        "\n",
        "Cliente: Gracias por su comprensión. Valoro su paciencia y amabilidad.\n",
        "\n",
        "Agente: De nada. Ha sido un placer atenderle. Si tiene alguna otra pregunta o necesita ayuda en el futuro, no dude en contactarnos.\n",
        "\n",
        "Cliente: Lo haré. Gracias nuevamente por todo su apoyo.\n",
        "\n",
        "Agente: ¡Hasta luego!\n",
        "\"\"\"\n",
        "categoria_ejemplo = classify_conversation(conversacion_ejemplo)\n",
        "print(\"Categoría de la conversación:\", categoria_ejemplo)"
      ],
      "metadata": {
        "colab": {
          "base_uri": "https://localhost:8080/"
        },
        "id": "4AFxiA5eLVjA",
        "outputId": "d5efbfc8-ce96-4526-eded-3b4041b42307"
      },
      "execution_count": 42,
      "outputs": [
        {
          "output_type": "stream",
          "name": "stdout",
          "text": [
            "Categoría de la conversación: venta_de_producto_fisico\n"
          ]
        }
      ]
    },
    {
      "cell_type": "code",
      "source": [
        "df.head(30)"
      ],
      "metadata": {
        "colab": {
          "base_uri": "https://localhost:8080/",
          "height": 1000
        },
        "id": "ED3brv1kHUcL",
        "outputId": "c0cc0e7b-e36a-4b99-91d3-d5221128dc0a"
      },
      "execution_count": 43,
      "outputs": [
        {
          "output_type": "execute_result",
          "data": {
            "text/plain": [
              "                                             Producto  \\\n",
              "0                                           Laptop HP   \n",
              "1                                    Smart TV Samsung   \n",
              "2                            Teléfono móvil iPhone 13   \n",
              "3                        Tablet Samsung Galaxy Tab S7   \n",
              "4                Consola de videojuegos PlayStation 5   \n",
              "5                           Cámara Canon EOS Rebel T7   \n",
              "6                     Refrigerador LG de doble puerta   \n",
              "7                           Barra de sonido LG SN11RG   \n",
              "8                      Portátil Asus ROG Zephyrus G14   \n",
              "9                    Auriculares Bose QuietComfort 45   \n",
              "19                            Impresora Epson EcoTank   \n",
              "20                        Monitor Dell UltraSharp 27\"   \n",
              "21          Licuadora Vitamix Professional Series 750   \n",
              "22         Sistema de cámaras de seguridad Arlo Pro 3   \n",
              "23             Reloj inteligente Apple Watch Series 7   \n",
              "24                     Aspiradora robot iRobot Roomba   \n",
              "25            Teclado mecánico Razer BlackWidow Elite   \n",
              "26              Máquina de café Nespresso Vertuo Next   \n",
              "27           Auriculares inalámbricos Sony WH-1000XM4   \n",
              "28  Bicicleta estática NordicTrack Commercial S22i...   \n",
              "29                  Smartwatch Samsung Galaxy Watch 4   \n",
              "30                    Sistema de altavoces Sonos Beam   \n",
              "31            Monitor de juegos ASUS ROG Swift PG279Q   \n",
              "32                        Cámara digital Canon EOS R6   \n",
              "33                   Tableta gráfica Wacom Intuos Pro   \n",
              "35                    Sistema de seguridad Ring Alarm   \n",
              "36                 Proyector Epson Home Cinema 5050UB   \n",
              "37                    Lector electrónico Kindle Oasis   \n",
              "38         Kit de iluminación inteligente Philips Hue   \n",
              "\n",
              "                                         Conversación  Venta  \\\n",
              "0   Cliente: Hola, estoy buscando una laptop HP. \\...   True   \n",
              "1   Cliente: Hola, estoy buscando una Smart TV Sam...  False   \n",
              "2   Cliente: Hola, estoy interesado en el iPhone 1...  False   \n",
              "3   Cliente: Hola, estoy buscando una tablet Samsu...  False   \n",
              "4   Cliente: Hola, ¿tienen la PlayStation 5 dispon...  False   \n",
              "5   Cliente: Hola, estoy interesado en la cámara C...  False   \n",
              "6   Cliente: Hola, estoy buscando un refrigerador ...   True   \n",
              "7   Cliente: Hola, estoy buscando una barra de son...  False   \n",
              "8   Cliente: Hola, estoy buscando un portátil para...   True   \n",
              "9   Cliente: Hola, estoy interesado en los auricul...  False   \n",
              "19  Cliente: Hola, estoy buscando una impresora pa...   True   \n",
              "20  Cliente: Hola, necesito un nuevo monitor para ...   True   \n",
              "21  Cliente: Hola, estoy buscando una licuadora de...  False   \n",
              "22  Cliente: Hola, estoy buscando un sistema de cá...   True   \n",
              "23  Cliente: Hola, estoy interesado en el Apple Wa...   True   \n",
              "24  Cliente: Hola, estoy buscando una aspiradora r...   True   \n",
              "25  Cliente: Hola, estoy buscando un nuevo teclado...   True   \n",
              "26  Cliente: Hola, estoy interesado en la máquina ...   True   \n",
              "27  Cliente: Hola, estoy buscando unos auriculares...   True   \n",
              "28  Cliente: Hola, estoy interesado en una bicicle...   True   \n",
              "29  Cliente: Hola, estoy buscando un smartwatch y ...   True   \n",
              "30  Cliente: Hola, estoy buscando un sistema de al...   True   \n",
              "31  Cliente: Hola, estoy buscando un nuevo monitor...   True   \n",
              "32  Cliente: Hola, estoy interesado en la cámara C...  False   \n",
              "33  Cliente: Hola, estoy buscando una tableta gráf...   True   \n",
              "35  Cliente: Hola, estoy buscando un sistema de se...   True   \n",
              "36  Cliente: Hola, estoy interesado en comprar un ...   True   \n",
              "37  Cliente: Hola, estoy buscando un lector electr...  False   \n",
              "38  Cliente: Hola, estoy buscando un sistema de il...   True   \n",
              "\n",
              "                                         Conversacion  longitud_conversacion  \\\n",
              "0   cliente hola buscando laptop hp vendedor hola ...                    264   \n",
              "1   cliente hola buscando smart tv samsung vendedo...                    341   \n",
              "2   cliente hola interesado iphone 13 vendedor hol...                    260   \n",
              "3   cliente hola buscando tablet samsung galaxy ta...                    316   \n",
              "4   cliente hola playstation 5 disponible vendedor...                    251   \n",
              "5   cliente hola interesado c mara canon eos rebel...                    438   \n",
              "6   cliente hola buscando refrigerador doble puert...                    154   \n",
              "7   cliente hola buscando barra sonido alta calida...                    211   \n",
              "8   cliente hola buscando port til juegos recomend...                    151   \n",
              "9   cliente hola interesado auriculare bose quietc...                    175   \n",
              "19  cliente hola buscando impresora oficina casa v...                    148   \n",
              "20  cliente hola necesito nuevo monitor computador...                    150   \n",
              "21  cliente hola buscando licuadora alta calidad c...                    130   \n",
              "22  cliente hola buscando sistema c mara seguridad...                    186   \n",
              "23  cliente hola interesado apple watch series 7 v...                    165   \n",
              "24  cliente hola buscando aspiradora robot mantene...                    151   \n",
              "25  cliente hola buscando nuevo teclado computador...                    152   \n",
              "26  cliente hola interesado m quina caf nespresso ...                    146   \n",
              "27  cliente hola buscando auriculare inal mbricos ...                    169   \n",
              "28  cliente hola interesado bicicleta est tica alt...                    157   \n",
              "29  cliente hola buscando smartwatch recomendado s...                    144   \n",
              "30  cliente hola buscando sistema altavoces sala v...                    165   \n",
              "31  cliente hola buscando nuevo monitor pc juegos ...                    159   \n",
              "32  cliente hola interesado c mara canon eos r6 ve...                    129   \n",
              "33  cliente hola buscando tableta gr fica proyecto...                    149   \n",
              "35  cliente hola buscando sistema seguridad hogar ...                    159   \n",
              "36  cliente hola interesado comprar proyector sala...                    167   \n",
              "37  cliente hola buscando lector electr nico libro...                    134   \n",
              "38  cliente hola buscando sistema iluminaci n inte...                    160   \n",
              "\n",
              "                   Categoria  \n",
              "0   venta_de_producto_fisico  \n",
              "1   venta_de_producto_fisico  \n",
              "2   venta_de_producto_fisico  \n",
              "3   venta_de_producto_fisico  \n",
              "4   venta_de_producto_fisico  \n",
              "5   venta_de_producto_fisico  \n",
              "6   venta_de_producto_fisico  \n",
              "7   venta_de_producto_fisico  \n",
              "8   venta_de_producto_fisico  \n",
              "9   venta_de_producto_fisico  \n",
              "19  venta_de_producto_fisico  \n",
              "20  venta_de_producto_fisico  \n",
              "21  venta_de_producto_fisico  \n",
              "22  venta_de_producto_fisico  \n",
              "23  venta_de_producto_fisico  \n",
              "24  venta_de_producto_fisico  \n",
              "25  venta_de_producto_fisico  \n",
              "26  venta_de_producto_fisico  \n",
              "27  venta_de_producto_fisico  \n",
              "28  venta_de_producto_fisico  \n",
              "29  venta_de_producto_fisico  \n",
              "30  venta_de_producto_fisico  \n",
              "31  venta_de_producto_fisico  \n",
              "32  venta_de_producto_fisico  \n",
              "33  venta_de_producto_fisico  \n",
              "35  venta_de_producto_fisico  \n",
              "36  venta_de_producto_fisico  \n",
              "37  venta_de_producto_fisico  \n",
              "38  venta_de_producto_fisico  "
            ],
            "text/html": [
              "\n",
              "  <div id=\"df-94997b6a-5945-40e3-9f97-3014f937550b\" class=\"colab-df-container\">\n",
              "    <div>\n",
              "<style scoped>\n",
              "    .dataframe tbody tr th:only-of-type {\n",
              "        vertical-align: middle;\n",
              "    }\n",
              "\n",
              "    .dataframe tbody tr th {\n",
              "        vertical-align: top;\n",
              "    }\n",
              "\n",
              "    .dataframe thead th {\n",
              "        text-align: right;\n",
              "    }\n",
              "</style>\n",
              "<table border=\"1\" class=\"dataframe\">\n",
              "  <thead>\n",
              "    <tr style=\"text-align: right;\">\n",
              "      <th></th>\n",
              "      <th>Producto</th>\n",
              "      <th>Conversación</th>\n",
              "      <th>Venta</th>\n",
              "      <th>Conversacion</th>\n",
              "      <th>longitud_conversacion</th>\n",
              "      <th>Categoria</th>\n",
              "    </tr>\n",
              "  </thead>\n",
              "  <tbody>\n",
              "    <tr>\n",
              "      <th>0</th>\n",
              "      <td>Laptop HP</td>\n",
              "      <td>Cliente: Hola, estoy buscando una laptop HP. \\...</td>\n",
              "      <td>True</td>\n",
              "      <td>cliente hola buscando laptop hp vendedor hola ...</td>\n",
              "      <td>264</td>\n",
              "      <td>venta_de_producto_fisico</td>\n",
              "    </tr>\n",
              "    <tr>\n",
              "      <th>1</th>\n",
              "      <td>Smart TV Samsung</td>\n",
              "      <td>Cliente: Hola, estoy buscando una Smart TV Sam...</td>\n",
              "      <td>False</td>\n",
              "      <td>cliente hola buscando smart tv samsung vendedo...</td>\n",
              "      <td>341</td>\n",
              "      <td>venta_de_producto_fisico</td>\n",
              "    </tr>\n",
              "    <tr>\n",
              "      <th>2</th>\n",
              "      <td>Teléfono móvil iPhone 13</td>\n",
              "      <td>Cliente: Hola, estoy interesado en el iPhone 1...</td>\n",
              "      <td>False</td>\n",
              "      <td>cliente hola interesado iphone 13 vendedor hol...</td>\n",
              "      <td>260</td>\n",
              "      <td>venta_de_producto_fisico</td>\n",
              "    </tr>\n",
              "    <tr>\n",
              "      <th>3</th>\n",
              "      <td>Tablet Samsung Galaxy Tab S7</td>\n",
              "      <td>Cliente: Hola, estoy buscando una tablet Samsu...</td>\n",
              "      <td>False</td>\n",
              "      <td>cliente hola buscando tablet samsung galaxy ta...</td>\n",
              "      <td>316</td>\n",
              "      <td>venta_de_producto_fisico</td>\n",
              "    </tr>\n",
              "    <tr>\n",
              "      <th>4</th>\n",
              "      <td>Consola de videojuegos PlayStation 5</td>\n",
              "      <td>Cliente: Hola, ¿tienen la PlayStation 5 dispon...</td>\n",
              "      <td>False</td>\n",
              "      <td>cliente hola playstation 5 disponible vendedor...</td>\n",
              "      <td>251</td>\n",
              "      <td>venta_de_producto_fisico</td>\n",
              "    </tr>\n",
              "    <tr>\n",
              "      <th>5</th>\n",
              "      <td>Cámara Canon EOS Rebel T7</td>\n",
              "      <td>Cliente: Hola, estoy interesado en la cámara C...</td>\n",
              "      <td>False</td>\n",
              "      <td>cliente hola interesado c mara canon eos rebel...</td>\n",
              "      <td>438</td>\n",
              "      <td>venta_de_producto_fisico</td>\n",
              "    </tr>\n",
              "    <tr>\n",
              "      <th>6</th>\n",
              "      <td>Refrigerador LG de doble puerta</td>\n",
              "      <td>Cliente: Hola, estoy buscando un refrigerador ...</td>\n",
              "      <td>True</td>\n",
              "      <td>cliente hola buscando refrigerador doble puert...</td>\n",
              "      <td>154</td>\n",
              "      <td>venta_de_producto_fisico</td>\n",
              "    </tr>\n",
              "    <tr>\n",
              "      <th>7</th>\n",
              "      <td>Barra de sonido LG SN11RG</td>\n",
              "      <td>Cliente: Hola, estoy buscando una barra de son...</td>\n",
              "      <td>False</td>\n",
              "      <td>cliente hola buscando barra sonido alta calida...</td>\n",
              "      <td>211</td>\n",
              "      <td>venta_de_producto_fisico</td>\n",
              "    </tr>\n",
              "    <tr>\n",
              "      <th>8</th>\n",
              "      <td>Portátil Asus ROG Zephyrus G14</td>\n",
              "      <td>Cliente: Hola, estoy buscando un portátil para...</td>\n",
              "      <td>True</td>\n",
              "      <td>cliente hola buscando port til juegos recomend...</td>\n",
              "      <td>151</td>\n",
              "      <td>venta_de_producto_fisico</td>\n",
              "    </tr>\n",
              "    <tr>\n",
              "      <th>9</th>\n",
              "      <td>Auriculares Bose QuietComfort 45</td>\n",
              "      <td>Cliente: Hola, estoy interesado en los auricul...</td>\n",
              "      <td>False</td>\n",
              "      <td>cliente hola interesado auriculare bose quietc...</td>\n",
              "      <td>175</td>\n",
              "      <td>venta_de_producto_fisico</td>\n",
              "    </tr>\n",
              "    <tr>\n",
              "      <th>19</th>\n",
              "      <td>Impresora Epson EcoTank</td>\n",
              "      <td>Cliente: Hola, estoy buscando una impresora pa...</td>\n",
              "      <td>True</td>\n",
              "      <td>cliente hola buscando impresora oficina casa v...</td>\n",
              "      <td>148</td>\n",
              "      <td>venta_de_producto_fisico</td>\n",
              "    </tr>\n",
              "    <tr>\n",
              "      <th>20</th>\n",
              "      <td>Monitor Dell UltraSharp 27\"</td>\n",
              "      <td>Cliente: Hola, necesito un nuevo monitor para ...</td>\n",
              "      <td>True</td>\n",
              "      <td>cliente hola necesito nuevo monitor computador...</td>\n",
              "      <td>150</td>\n",
              "      <td>venta_de_producto_fisico</td>\n",
              "    </tr>\n",
              "    <tr>\n",
              "      <th>21</th>\n",
              "      <td>Licuadora Vitamix Professional Series 750</td>\n",
              "      <td>Cliente: Hola, estoy buscando una licuadora de...</td>\n",
              "      <td>False</td>\n",
              "      <td>cliente hola buscando licuadora alta calidad c...</td>\n",
              "      <td>130</td>\n",
              "      <td>venta_de_producto_fisico</td>\n",
              "    </tr>\n",
              "    <tr>\n",
              "      <th>22</th>\n",
              "      <td>Sistema de cámaras de seguridad Arlo Pro 3</td>\n",
              "      <td>Cliente: Hola, estoy buscando un sistema de cá...</td>\n",
              "      <td>True</td>\n",
              "      <td>cliente hola buscando sistema c mara seguridad...</td>\n",
              "      <td>186</td>\n",
              "      <td>venta_de_producto_fisico</td>\n",
              "    </tr>\n",
              "    <tr>\n",
              "      <th>23</th>\n",
              "      <td>Reloj inteligente Apple Watch Series 7</td>\n",
              "      <td>Cliente: Hola, estoy interesado en el Apple Wa...</td>\n",
              "      <td>True</td>\n",
              "      <td>cliente hola interesado apple watch series 7 v...</td>\n",
              "      <td>165</td>\n",
              "      <td>venta_de_producto_fisico</td>\n",
              "    </tr>\n",
              "    <tr>\n",
              "      <th>24</th>\n",
              "      <td>Aspiradora robot iRobot Roomba</td>\n",
              "      <td>Cliente: Hola, estoy buscando una aspiradora r...</td>\n",
              "      <td>True</td>\n",
              "      <td>cliente hola buscando aspiradora robot mantene...</td>\n",
              "      <td>151</td>\n",
              "      <td>venta_de_producto_fisico</td>\n",
              "    </tr>\n",
              "    <tr>\n",
              "      <th>25</th>\n",
              "      <td>Teclado mecánico Razer BlackWidow Elite</td>\n",
              "      <td>Cliente: Hola, estoy buscando un nuevo teclado...</td>\n",
              "      <td>True</td>\n",
              "      <td>cliente hola buscando nuevo teclado computador...</td>\n",
              "      <td>152</td>\n",
              "      <td>venta_de_producto_fisico</td>\n",
              "    </tr>\n",
              "    <tr>\n",
              "      <th>26</th>\n",
              "      <td>Máquina de café Nespresso Vertuo Next</td>\n",
              "      <td>Cliente: Hola, estoy interesado en la máquina ...</td>\n",
              "      <td>True</td>\n",
              "      <td>cliente hola interesado m quina caf nespresso ...</td>\n",
              "      <td>146</td>\n",
              "      <td>venta_de_producto_fisico</td>\n",
              "    </tr>\n",
              "    <tr>\n",
              "      <th>27</th>\n",
              "      <td>Auriculares inalámbricos Sony WH-1000XM4</td>\n",
              "      <td>Cliente: Hola, estoy buscando unos auriculares...</td>\n",
              "      <td>True</td>\n",
              "      <td>cliente hola buscando auriculare inal mbricos ...</td>\n",
              "      <td>169</td>\n",
              "      <td>venta_de_producto_fisico</td>\n",
              "    </tr>\n",
              "    <tr>\n",
              "      <th>28</th>\n",
              "      <td>Bicicleta estática NordicTrack Commercial S22i...</td>\n",
              "      <td>Cliente: Hola, estoy interesado en una bicicle...</td>\n",
              "      <td>True</td>\n",
              "      <td>cliente hola interesado bicicleta est tica alt...</td>\n",
              "      <td>157</td>\n",
              "      <td>venta_de_producto_fisico</td>\n",
              "    </tr>\n",
              "    <tr>\n",
              "      <th>29</th>\n",
              "      <td>Smartwatch Samsung Galaxy Watch 4</td>\n",
              "      <td>Cliente: Hola, estoy buscando un smartwatch y ...</td>\n",
              "      <td>True</td>\n",
              "      <td>cliente hola buscando smartwatch recomendado s...</td>\n",
              "      <td>144</td>\n",
              "      <td>venta_de_producto_fisico</td>\n",
              "    </tr>\n",
              "    <tr>\n",
              "      <th>30</th>\n",
              "      <td>Sistema de altavoces Sonos Beam</td>\n",
              "      <td>Cliente: Hola, estoy buscando un sistema de al...</td>\n",
              "      <td>True</td>\n",
              "      <td>cliente hola buscando sistema altavoces sala v...</td>\n",
              "      <td>165</td>\n",
              "      <td>venta_de_producto_fisico</td>\n",
              "    </tr>\n",
              "    <tr>\n",
              "      <th>31</th>\n",
              "      <td>Monitor de juegos ASUS ROG Swift PG279Q</td>\n",
              "      <td>Cliente: Hola, estoy buscando un nuevo monitor...</td>\n",
              "      <td>True</td>\n",
              "      <td>cliente hola buscando nuevo monitor pc juegos ...</td>\n",
              "      <td>159</td>\n",
              "      <td>venta_de_producto_fisico</td>\n",
              "    </tr>\n",
              "    <tr>\n",
              "      <th>32</th>\n",
              "      <td>Cámara digital Canon EOS R6</td>\n",
              "      <td>Cliente: Hola, estoy interesado en la cámara C...</td>\n",
              "      <td>False</td>\n",
              "      <td>cliente hola interesado c mara canon eos r6 ve...</td>\n",
              "      <td>129</td>\n",
              "      <td>venta_de_producto_fisico</td>\n",
              "    </tr>\n",
              "    <tr>\n",
              "      <th>33</th>\n",
              "      <td>Tableta gráfica Wacom Intuos Pro</td>\n",
              "      <td>Cliente: Hola, estoy buscando una tableta gráf...</td>\n",
              "      <td>True</td>\n",
              "      <td>cliente hola buscando tableta gr fica proyecto...</td>\n",
              "      <td>149</td>\n",
              "      <td>venta_de_producto_fisico</td>\n",
              "    </tr>\n",
              "    <tr>\n",
              "      <th>35</th>\n",
              "      <td>Sistema de seguridad Ring Alarm</td>\n",
              "      <td>Cliente: Hola, estoy buscando un sistema de se...</td>\n",
              "      <td>True</td>\n",
              "      <td>cliente hola buscando sistema seguridad hogar ...</td>\n",
              "      <td>159</td>\n",
              "      <td>venta_de_producto_fisico</td>\n",
              "    </tr>\n",
              "    <tr>\n",
              "      <th>36</th>\n",
              "      <td>Proyector Epson Home Cinema 5050UB</td>\n",
              "      <td>Cliente: Hola, estoy interesado en comprar un ...</td>\n",
              "      <td>True</td>\n",
              "      <td>cliente hola interesado comprar proyector sala...</td>\n",
              "      <td>167</td>\n",
              "      <td>venta_de_producto_fisico</td>\n",
              "    </tr>\n",
              "    <tr>\n",
              "      <th>37</th>\n",
              "      <td>Lector electrónico Kindle Oasis</td>\n",
              "      <td>Cliente: Hola, estoy buscando un lector electr...</td>\n",
              "      <td>False</td>\n",
              "      <td>cliente hola buscando lector electr nico libro...</td>\n",
              "      <td>134</td>\n",
              "      <td>venta_de_producto_fisico</td>\n",
              "    </tr>\n",
              "    <tr>\n",
              "      <th>38</th>\n",
              "      <td>Kit de iluminación inteligente Philips Hue</td>\n",
              "      <td>Cliente: Hola, estoy buscando un sistema de il...</td>\n",
              "      <td>True</td>\n",
              "      <td>cliente hola buscando sistema iluminaci n inte...</td>\n",
              "      <td>160</td>\n",
              "      <td>venta_de_producto_fisico</td>\n",
              "    </tr>\n",
              "  </tbody>\n",
              "</table>\n",
              "</div>\n",
              "    <div class=\"colab-df-buttons\">\n",
              "\n",
              "  <div class=\"colab-df-container\">\n",
              "    <button class=\"colab-df-convert\" onclick=\"convertToInteractive('df-94997b6a-5945-40e3-9f97-3014f937550b')\"\n",
              "            title=\"Convert this dataframe to an interactive table.\"\n",
              "            style=\"display:none;\">\n",
              "\n",
              "  <svg xmlns=\"http://www.w3.org/2000/svg\" height=\"24px\" viewBox=\"0 -960 960 960\">\n",
              "    <path d=\"M120-120v-720h720v720H120Zm60-500h600v-160H180v160Zm220 220h160v-160H400v160Zm0 220h160v-160H400v160ZM180-400h160v-160H180v160Zm440 0h160v-160H620v160ZM180-180h160v-160H180v160Zm440 0h160v-160H620v160Z\"/>\n",
              "  </svg>\n",
              "    </button>\n",
              "\n",
              "  <style>\n",
              "    .colab-df-container {\n",
              "      display:flex;\n",
              "      gap: 12px;\n",
              "    }\n",
              "\n",
              "    .colab-df-convert {\n",
              "      background-color: #E8F0FE;\n",
              "      border: none;\n",
              "      border-radius: 50%;\n",
              "      cursor: pointer;\n",
              "      display: none;\n",
              "      fill: #1967D2;\n",
              "      height: 32px;\n",
              "      padding: 0 0 0 0;\n",
              "      width: 32px;\n",
              "    }\n",
              "\n",
              "    .colab-df-convert:hover {\n",
              "      background-color: #E2EBFA;\n",
              "      box-shadow: 0px 1px 2px rgba(60, 64, 67, 0.3), 0px 1px 3px 1px rgba(60, 64, 67, 0.15);\n",
              "      fill: #174EA6;\n",
              "    }\n",
              "\n",
              "    .colab-df-buttons div {\n",
              "      margin-bottom: 4px;\n",
              "    }\n",
              "\n",
              "    [theme=dark] .colab-df-convert {\n",
              "      background-color: #3B4455;\n",
              "      fill: #D2E3FC;\n",
              "    }\n",
              "\n",
              "    [theme=dark] .colab-df-convert:hover {\n",
              "      background-color: #434B5C;\n",
              "      box-shadow: 0px 1px 3px 1px rgba(0, 0, 0, 0.15);\n",
              "      filter: drop-shadow(0px 1px 2px rgba(0, 0, 0, 0.3));\n",
              "      fill: #FFFFFF;\n",
              "    }\n",
              "  </style>\n",
              "\n",
              "    <script>\n",
              "      const buttonEl =\n",
              "        document.querySelector('#df-94997b6a-5945-40e3-9f97-3014f937550b button.colab-df-convert');\n",
              "      buttonEl.style.display =\n",
              "        google.colab.kernel.accessAllowed ? 'block' : 'none';\n",
              "\n",
              "      async function convertToInteractive(key) {\n",
              "        const element = document.querySelector('#df-94997b6a-5945-40e3-9f97-3014f937550b');\n",
              "        const dataTable =\n",
              "          await google.colab.kernel.invokeFunction('convertToInteractive',\n",
              "                                                    [key], {});\n",
              "        if (!dataTable) return;\n",
              "\n",
              "        const docLinkHtml = 'Like what you see? Visit the ' +\n",
              "          '<a target=\"_blank\" href=https://colab.research.google.com/notebooks/data_table.ipynb>data table notebook</a>'\n",
              "          + ' to learn more about interactive tables.';\n",
              "        element.innerHTML = '';\n",
              "        dataTable['output_type'] = 'display_data';\n",
              "        await google.colab.output.renderOutput(dataTable, element);\n",
              "        const docLink = document.createElement('div');\n",
              "        docLink.innerHTML = docLinkHtml;\n",
              "        element.appendChild(docLink);\n",
              "      }\n",
              "    </script>\n",
              "  </div>\n",
              "\n",
              "\n",
              "<div id=\"df-18ec96ed-a3f8-45f0-a14e-08b72105420a\">\n",
              "  <button class=\"colab-df-quickchart\" onclick=\"quickchart('df-18ec96ed-a3f8-45f0-a14e-08b72105420a')\"\n",
              "            title=\"Suggest charts\"\n",
              "            style=\"display:none;\">\n",
              "\n",
              "<svg xmlns=\"http://www.w3.org/2000/svg\" height=\"24px\"viewBox=\"0 0 24 24\"\n",
              "     width=\"24px\">\n",
              "    <g>\n",
              "        <path d=\"M19 3H5c-1.1 0-2 .9-2 2v14c0 1.1.9 2 2 2h14c1.1 0 2-.9 2-2V5c0-1.1-.9-2-2-2zM9 17H7v-7h2v7zm4 0h-2V7h2v10zm4 0h-2v-4h2v4z\"/>\n",
              "    </g>\n",
              "</svg>\n",
              "  </button>\n",
              "\n",
              "<style>\n",
              "  .colab-df-quickchart {\n",
              "      --bg-color: #E8F0FE;\n",
              "      --fill-color: #1967D2;\n",
              "      --hover-bg-color: #E2EBFA;\n",
              "      --hover-fill-color: #174EA6;\n",
              "      --disabled-fill-color: #AAA;\n",
              "      --disabled-bg-color: #DDD;\n",
              "  }\n",
              "\n",
              "  [theme=dark] .colab-df-quickchart {\n",
              "      --bg-color: #3B4455;\n",
              "      --fill-color: #D2E3FC;\n",
              "      --hover-bg-color: #434B5C;\n",
              "      --hover-fill-color: #FFFFFF;\n",
              "      --disabled-bg-color: #3B4455;\n",
              "      --disabled-fill-color: #666;\n",
              "  }\n",
              "\n",
              "  .colab-df-quickchart {\n",
              "    background-color: var(--bg-color);\n",
              "    border: none;\n",
              "    border-radius: 50%;\n",
              "    cursor: pointer;\n",
              "    display: none;\n",
              "    fill: var(--fill-color);\n",
              "    height: 32px;\n",
              "    padding: 0;\n",
              "    width: 32px;\n",
              "  }\n",
              "\n",
              "  .colab-df-quickchart:hover {\n",
              "    background-color: var(--hover-bg-color);\n",
              "    box-shadow: 0 1px 2px rgba(60, 64, 67, 0.3), 0 1px 3px 1px rgba(60, 64, 67, 0.15);\n",
              "    fill: var(--button-hover-fill-color);\n",
              "  }\n",
              "\n",
              "  .colab-df-quickchart-complete:disabled,\n",
              "  .colab-df-quickchart-complete:disabled:hover {\n",
              "    background-color: var(--disabled-bg-color);\n",
              "    fill: var(--disabled-fill-color);\n",
              "    box-shadow: none;\n",
              "  }\n",
              "\n",
              "  .colab-df-spinner {\n",
              "    border: 2px solid var(--fill-color);\n",
              "    border-color: transparent;\n",
              "    border-bottom-color: var(--fill-color);\n",
              "    animation:\n",
              "      spin 1s steps(1) infinite;\n",
              "  }\n",
              "\n",
              "  @keyframes spin {\n",
              "    0% {\n",
              "      border-color: transparent;\n",
              "      border-bottom-color: var(--fill-color);\n",
              "      border-left-color: var(--fill-color);\n",
              "    }\n",
              "    20% {\n",
              "      border-color: transparent;\n",
              "      border-left-color: var(--fill-color);\n",
              "      border-top-color: var(--fill-color);\n",
              "    }\n",
              "    30% {\n",
              "      border-color: transparent;\n",
              "      border-left-color: var(--fill-color);\n",
              "      border-top-color: var(--fill-color);\n",
              "      border-right-color: var(--fill-color);\n",
              "    }\n",
              "    40% {\n",
              "      border-color: transparent;\n",
              "      border-right-color: var(--fill-color);\n",
              "      border-top-color: var(--fill-color);\n",
              "    }\n",
              "    60% {\n",
              "      border-color: transparent;\n",
              "      border-right-color: var(--fill-color);\n",
              "    }\n",
              "    80% {\n",
              "      border-color: transparent;\n",
              "      border-right-color: var(--fill-color);\n",
              "      border-bottom-color: var(--fill-color);\n",
              "    }\n",
              "    90% {\n",
              "      border-color: transparent;\n",
              "      border-bottom-color: var(--fill-color);\n",
              "    }\n",
              "  }\n",
              "</style>\n",
              "\n",
              "  <script>\n",
              "    async function quickchart(key) {\n",
              "      const quickchartButtonEl =\n",
              "        document.querySelector('#' + key + ' button');\n",
              "      quickchartButtonEl.disabled = true;  // To prevent multiple clicks.\n",
              "      quickchartButtonEl.classList.add('colab-df-spinner');\n",
              "      try {\n",
              "        const charts = await google.colab.kernel.invokeFunction(\n",
              "            'suggestCharts', [key], {});\n",
              "      } catch (error) {\n",
              "        console.error('Error during call to suggestCharts:', error);\n",
              "      }\n",
              "      quickchartButtonEl.classList.remove('colab-df-spinner');\n",
              "      quickchartButtonEl.classList.add('colab-df-quickchart-complete');\n",
              "    }\n",
              "    (() => {\n",
              "      let quickchartButtonEl =\n",
              "        document.querySelector('#df-18ec96ed-a3f8-45f0-a14e-08b72105420a button');\n",
              "      quickchartButtonEl.style.display =\n",
              "        google.colab.kernel.accessAllowed ? 'block' : 'none';\n",
              "    })();\n",
              "  </script>\n",
              "</div>\n",
              "\n",
              "    </div>\n",
              "  </div>\n"
            ],
            "application/vnd.google.colaboratory.intrinsic+json": {
              "type": "dataframe",
              "variable_name": "df",
              "summary": "{\n  \"name\": \"df\",\n  \"rows\": 29,\n  \"fields\": [\n    {\n      \"column\": \"Producto\",\n      \"properties\": {\n        \"dtype\": \"string\",\n        \"num_unique_values\": 29,\n        \"samples\": [\n          \"Lector electr\\u00f3nico Kindle Oasis\",\n          \"Teclado mec\\u00e1nico Razer BlackWidow Elite\",\n          \"Licuadora Vitamix Professional Series 750\"\n        ],\n        \"semantic_type\": \"\",\n        \"description\": \"\"\n      }\n    },\n    {\n      \"column\": \"Conversaci\\u00f3n\",\n      \"properties\": {\n        \"dtype\": \"string\",\n        \"num_unique_values\": 29,\n        \"samples\": [\n          \"Cliente: Hola, estoy buscando un lector electr\\u00f3nico para mis libros digitales.\\r\\nVendedor: \\u00a1Hola! El Kindle Oasis es una excelente opci\\u00f3n para la lectura digital. \\u00bfQu\\u00e9 caracter\\u00edsticas son importantes para ti?\\r\\nCliente: Me gustar\\u00eda que fuera resistente al agua y con una pantalla de alta resoluci\\u00f3n.\\r\\nVendedor: Este modelo del Kindle Oasis cumple con ambos requisitos. \\u00bfTe gustar\\u00eda ver c\\u00f3mo funciona?\\r\\nCliente: S\\u00ed, por favor.\\r\\nCliente: Me encanta. \\u00bfCu\\u00e1l es el precio del Kindle Oasis?\\r\\nVendedor: El precio del Kindle Oasis es de $300.\\r\\nCliente: Es un poco m\\u00e1s de lo que quer\\u00eda gastar. \\u00bfTienen alg\\u00fan descuento disponible?\\r\\nVendedor: Lamentablemente, no tenemos descuentos disponibles en este producto en este momento.\\r\\nCliente: Lo pensar\\u00e9 un poco m\\u00e1s y luego tomar\\u00e9 una decisi\\u00f3n.\\r\\nVendedor: Por supuesto, t\\u00f3mate tu tiempo. Si tienes m\\u00e1s preguntas, aqu\\u00ed estoy para ayudarte.\",\n          \"Cliente: Hola, estoy buscando un nuevo teclado para mi computadora de escritorio.\\r\\nVendedor: \\u00a1Hola! El teclado mec\\u00e1nico Razer BlackWidow Elite es una excelente opci\\u00f3n para jugadores y escritores. \\u00bfQu\\u00e9 tipo de switches prefieres?\\r\\nCliente: Prefiero los switches t\\u00e1ctiles. \\u00bfEste teclado los tiene?\\r\\nVendedor: S\\u00ed, este modelo viene con switches t\\u00e1ctiles Razer Green. \\u00bfTe gustar\\u00eda probarlo?\\r\\nCliente: S\\u00ed, por favor.\\r\\nCliente: Me encanta c\\u00f3mo se siente. \\u00bfCu\\u00e1l es el precio?\\r\\nVendedor: El precio del BlackWidow Elite es de $150.\\r\\nCliente: Eso est\\u00e1 dentro de mi presupuesto. \\u00bfHay alg\\u00fan descuento disponible?\\r\\nVendedor: Podemos ofrecerte un descuento del 5% si compras un mouse Razer junto con el teclado.\\r\\nCliente: Me lo llevo junto con un mouse.\\r\\nVendedor: Perfecto. Perm\\u00edteme procesar tu pedido.\\r\\nCliente: Aqu\\u00ed tienes mi tarjeta.\\r\\nVendedor: Gracias. Te enviar\\u00e9 el recibo por correo electr\\u00f3nico y tus productos ser\\u00e1n entregados en tu direcci\\u00f3n dentro de los pr\\u00f3ximos d\\u00edas h\\u00e1biles.\\r\\nCliente: Gracias por tu ayuda.\",\n          \"Cliente: Hola, estoy buscando una licuadora de alta calidad para mi cocina.\\r\\nVendedor: \\u00a1Hola! La licuadora Vitamix Professional Series 750 es una de nuestras mejores opciones. \\u00bfQu\\u00e9 tipo de alimentos planeas mezclar?\\r\\nCliente: Principalmente frutas y verduras para hacer batidos y sopas.\\r\\nVendedor: Esta licuadora tiene un potente motor y cuchillas de acero inoxidable que pueden manejar f\\u00e1cilmente esos ingredientes. \\u00bfTe gustar\\u00eda ver una demostraci\\u00f3n?\\r\\nCliente: S\\u00ed, por favor.\\r\\nCliente: Impresionante. \\u00bfCu\\u00e1l es el precio?\\r\\nVendedor: Esta licuadora tiene un precio de $700.\\r\\nCliente: Es un poco m\\u00e1s de lo que esperaba gastar. \\u00bfTienen alg\\u00fan descuento disponible?\\r\\nVendedor: Lamentablemente, no tenemos descuentos disponibles en este momento.\\r\\nCliente: Lo pensar\\u00e9 un poco m\\u00e1s. Gracias por tu ayuda.\\r\\nVendedor: Por supuesto, t\\u00f3mate tu tiempo. Si tienes m\\u00e1s preguntas, aqu\\u00ed estoy para ayudarte.\"\n        ],\n        \"semantic_type\": \"\",\n        \"description\": \"\"\n      }\n    },\n    {\n      \"column\": \"Venta\",\n      \"properties\": {\n        \"dtype\": \"boolean\",\n        \"num_unique_values\": 2,\n        \"samples\": [\n          false,\n          true\n        ],\n        \"semantic_type\": \"\",\n        \"description\": \"\"\n      }\n    },\n    {\n      \"column\": \"Conversacion\",\n      \"properties\": {\n        \"dtype\": \"string\",\n        \"num_unique_values\": 29,\n        \"samples\": [\n          \"cliente hola buscando lector electr nico libros digitales vendedor hola kindle oasis excelente opci n lectura digital qu caracter sticas importantes cliente gustar resistente agua pantalla alta resoluci n vendedor modelo kindle oasis cumple ambo requisitos gustar ver c mo funciona cliente s favor cliente encanta cu l precio kindle oasis vendedor precio kindle oasis 300 cliente m s quer gastar alg n descuento disponible vendedor lamentablemente descuentos disponibles producto momento cliente pensar m s luego tomar decisi n vendedor supuesto t mate tiempo si m s preguntas aqu ayudarte\",\n          \"cliente hola buscando nuevo teclado computadora escritorio vendedor hola teclado mec nico razer blackwidow elite excelente opci n jugadores escritores qu tipo switch prefieres cliente prefiero switch t ctiles teclado vendedor s modelo viene switch t ctiles razer green gustar probarlo cliente s favor cliente encanta c mo cu l precio vendedor precio blackwidow elite 150 cliente est dentro presupuesto alg n descuento disponible vendedor podemos ofrecerte descuento 5 si compras mouse razer junto teclado cliente llevo junto mouse vendedor perfecto perm teme procesar pedido cliente aqu tarjeta vendedor gracias enviar recibo correo electr nico productos ser n entregados direcci n dentro pr ximos d h bile cliente gracias ayuda\"\n        ],\n        \"semantic_type\": \"\",\n        \"description\": \"\"\n      }\n    },\n    {\n      \"column\": \"longitud_conversacion\",\n      \"properties\": {\n        \"dtype\": \"number\",\n        \"std\": 72,\n        \"min\": 129,\n        \"max\": 438,\n        \"num_unique_values\": 26,\n        \"samples\": [\n          151,\n          146\n        ],\n        \"semantic_type\": \"\",\n        \"description\": \"\"\n      }\n    },\n    {\n      \"column\": \"Categoria\",\n      \"properties\": {\n        \"dtype\": \"category\",\n        \"num_unique_values\": 1,\n        \"samples\": [\n          \"venta_de_producto_fisico\"\n        ],\n        \"semantic_type\": \"\",\n        \"description\": \"\"\n      }\n    }\n  ]\n}"
            }
          },
          "metadata": {},
          "execution_count": 43
        }
      ]
    }
  ]
}